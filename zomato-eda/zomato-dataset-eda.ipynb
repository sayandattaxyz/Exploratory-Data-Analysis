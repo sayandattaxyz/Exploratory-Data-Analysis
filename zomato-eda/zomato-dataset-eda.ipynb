{
 "cells": [
  {
   "cell_type": "markdown",
   "metadata": {},
   "source": [
    "# About Dataset\n",
    "\n",
    "## Context\n",
    "I was always fascinated by the food culture of Bengaluru. Restaurants from all over the world can be found here in Bengaluru. From United States to Japan, Russia to Antarctica, you get all type of cuisines here. Delivery, Dine-out, Pubs, Bars, Drinks,Buffet, Desserts you name it and Bengaluru has it. Bengaluru is best place for foodies. The number of restaurant are increasing day by day. Currently which stands at approximately 12,000 restaurants. With such an high number of restaurants. This industry hasn't been saturated yet. And new restaurants are opening every day. However it has become difficult for them to compete with already established restaurants. The key issues that continue to pose a challenge to them include high real estate costs, rising food costs, shortage of quality manpower, fragmented supply chain and over-licensing. This Zomato data aims at analysing demography of the location. Most importantly it will help new restaurants in deciding their theme, menus, cuisine, cost etc for a particular location. It also aims at finding similarity between neighborhoods of Bengaluru on the basis of food. The dataset also contains reviews for each of the restaurant which will help in finding overall rating for the place.\n",
    "\n",
    "## Content\n",
    "The basic idea of analyzing the Zomato dataset is to get a fair idea about the factors affecting the establishment\n",
    "of different types of restaurant at different places in Bengaluru, aggregate rating of each restaurant, Bengaluru\n",
    "being one such city has more than 12,000 restaurants with restaurants serving dishes from all over the world.\n",
    "With each day new restaurants opening the industry has’nt been saturated yet and the demand is increasing\n",
    "day by day. Inspite of increasing demand it however has become difficult for new restaurants to compete with\n",
    "established restaurants. Most of them serving the same food. Bengaluru being an IT capital of India. Most of\n",
    "the people here are dependent mainly on the restaurant food as they don’t have time to cook for themselves.\n",
    "With such an overwhelming demand of restaurants it has therefore become important to study the demography\n",
    "of a location. What kind of a food is more popular in a locality. Do the entire locality loves vegetarian food.\n",
    "If yes then is that locality populated by a particular sect of people for eg. Jain, Marwaris, Gujaratis who are\n",
    "mostly vegetarian.\n",
    "\n",
    "The data is accurate to that available on the zomato website until 15 March 2019.\n",
    "\n",
    "## Questions answered through this EDA\n",
    "1. Which are the top locations with most number of restaurants?\n",
    "2. What are the various listing types?\n",
    "3. Which restaurant has most number of votes?\n",
    "4. What is the average rating for each cost range?\n",
    "5. What type of restaurant gets the best rating?\n",
    "6. What is the average cost of two for each type of restaurant?\n",
    "7. Which restaurant type recieves the most votes?"
   ]
  },
  {
   "cell_type": "markdown",
   "metadata": {
    "_cell_guid": "b1076dfc-b9ad-4769-8c92-a6c4dae69d19",
    "_uuid": "8f2839f25d086af736a60e9eeb907d3b93b6e0e5",
    "execution": {
     "iopub.execute_input": "2023-03-31T15:42:30.402924Z",
     "iopub.status.busy": "2023-03-31T15:42:30.402486Z",
     "iopub.status.idle": "2023-03-31T15:42:30.415798Z",
     "shell.execute_reply": "2023-03-31T15:42:30.414414Z",
     "shell.execute_reply.started": "2023-03-31T15:42:30.402888Z"
    }
   },
   "source": [
    "Data Source: https://www.kaggle.com/datasets/himanshupoddar/zomato-bangalore-restaurants"
   ]
  },
  {
   "cell_type": "code",
   "execution_count": 285,
   "metadata": {
    "execution": {
     "iopub.execute_input": "2023-03-31T15:42:30.433340Z",
     "iopub.status.busy": "2023-03-31T15:42:30.432864Z",
     "iopub.status.idle": "2023-03-31T15:42:30.441215Z",
     "shell.execute_reply": "2023-03-31T15:42:30.439754Z",
     "shell.execute_reply.started": "2023-03-31T15:42:30.433290Z"
    }
   },
   "outputs": [],
   "source": [
    "import pandas as pd\n",
    "import numpy as np\n",
    "import matplotlib.pyplot as plt\n",
    "import seaborn as sns\n",
    "%matplotlib inline"
   ]
  },
  {
   "cell_type": "code",
   "execution_count": 286,
   "metadata": {
    "execution": {
     "iopub.execute_input": "2023-03-31T15:42:30.475416Z",
     "iopub.status.busy": "2023-03-31T15:42:30.474555Z",
     "iopub.status.idle": "2023-03-31T15:42:37.145924Z",
     "shell.execute_reply": "2023-03-31T15:42:37.144945Z",
     "shell.execute_reply.started": "2023-03-31T15:42:30.475333Z"
    }
   },
   "outputs": [],
   "source": [
    "df=pd.read_csv(\"zomato.csv\")"
   ]
  },
  {
   "cell_type": "code",
   "execution_count": 287,
   "metadata": {
    "execution": {
     "iopub.execute_input": "2023-03-31T15:42:37.149080Z",
     "iopub.status.busy": "2023-03-31T15:42:37.148260Z",
     "iopub.status.idle": "2023-03-31T15:42:37.157823Z",
     "shell.execute_reply": "2023-03-31T15:42:37.156435Z",
     "shell.execute_reply.started": "2023-03-31T15:42:37.149027Z"
    }
   },
   "outputs": [
    {
     "data": {
      "text/plain": [
       "(51717, 17)"
      ]
     },
     "execution_count": 287,
     "metadata": {},
     "output_type": "execute_result"
    }
   ],
   "source": [
    "df.shape"
   ]
  },
  {
   "cell_type": "code",
   "execution_count": 288,
   "metadata": {
    "execution": {
     "iopub.execute_input": "2023-03-31T15:42:37.159579Z",
     "iopub.status.busy": "2023-03-31T15:42:37.159222Z",
     "iopub.status.idle": "2023-03-31T15:42:37.185263Z",
     "shell.execute_reply": "2023-03-31T15:42:37.183918Z",
     "shell.execute_reply.started": "2023-03-31T15:42:37.159544Z"
    }
   },
   "outputs": [
    {
     "data": {
      "text/html": [
       "<div>\n",
       "<style scoped>\n",
       "    .dataframe tbody tr th:only-of-type {\n",
       "        vertical-align: middle;\n",
       "    }\n",
       "\n",
       "    .dataframe tbody tr th {\n",
       "        vertical-align: top;\n",
       "    }\n",
       "\n",
       "    .dataframe thead th {\n",
       "        text-align: right;\n",
       "    }\n",
       "</style>\n",
       "<table border=\"1\" class=\"dataframe\">\n",
       "  <thead>\n",
       "    <tr style=\"text-align: right;\">\n",
       "      <th></th>\n",
       "      <th>url</th>\n",
       "      <th>address</th>\n",
       "      <th>name</th>\n",
       "      <th>online_order</th>\n",
       "      <th>book_table</th>\n",
       "      <th>rate</th>\n",
       "      <th>votes</th>\n",
       "      <th>phone</th>\n",
       "      <th>location</th>\n",
       "      <th>rest_type</th>\n",
       "      <th>dish_liked</th>\n",
       "      <th>cuisines</th>\n",
       "      <th>approx_cost(for two people)</th>\n",
       "      <th>reviews_list</th>\n",
       "      <th>menu_item</th>\n",
       "      <th>listed_in(type)</th>\n",
       "      <th>listed_in(city)</th>\n",
       "    </tr>\n",
       "  </thead>\n",
       "  <tbody>\n",
       "    <tr>\n",
       "      <th>0</th>\n",
       "      <td>https://www.zomato.com/bangalore/jalsa-banasha...</td>\n",
       "      <td>942, 21st Main Road, 2nd Stage, Banashankari, ...</td>\n",
       "      <td>Jalsa</td>\n",
       "      <td>Yes</td>\n",
       "      <td>Yes</td>\n",
       "      <td>4.1/5</td>\n",
       "      <td>775</td>\n",
       "      <td>080 42297555\\r\\n+91 9743772233</td>\n",
       "      <td>Banashankari</td>\n",
       "      <td>Casual Dining</td>\n",
       "      <td>Pasta, Lunch Buffet, Masala Papad, Paneer Laja...</td>\n",
       "      <td>North Indian, Mughlai, Chinese</td>\n",
       "      <td>800</td>\n",
       "      <td>[('Rated 4.0', 'RATED\\n  A beautiful place to ...</td>\n",
       "      <td>[]</td>\n",
       "      <td>Buffet</td>\n",
       "      <td>Banashankari</td>\n",
       "    </tr>\n",
       "    <tr>\n",
       "      <th>1</th>\n",
       "      <td>https://www.zomato.com/bangalore/spice-elephan...</td>\n",
       "      <td>2nd Floor, 80 Feet Road, Near Big Bazaar, 6th ...</td>\n",
       "      <td>Spice Elephant</td>\n",
       "      <td>Yes</td>\n",
       "      <td>No</td>\n",
       "      <td>4.1/5</td>\n",
       "      <td>787</td>\n",
       "      <td>080 41714161</td>\n",
       "      <td>Banashankari</td>\n",
       "      <td>Casual Dining</td>\n",
       "      <td>Momos, Lunch Buffet, Chocolate Nirvana, Thai G...</td>\n",
       "      <td>Chinese, North Indian, Thai</td>\n",
       "      <td>800</td>\n",
       "      <td>[('Rated 4.0', 'RATED\\n  Had been here for din...</td>\n",
       "      <td>[]</td>\n",
       "      <td>Buffet</td>\n",
       "      <td>Banashankari</td>\n",
       "    </tr>\n",
       "    <tr>\n",
       "      <th>2</th>\n",
       "      <td>https://www.zomato.com/SanchurroBangalore?cont...</td>\n",
       "      <td>1112, Next to KIMS Medical College, 17th Cross...</td>\n",
       "      <td>San Churro Cafe</td>\n",
       "      <td>Yes</td>\n",
       "      <td>No</td>\n",
       "      <td>3.8/5</td>\n",
       "      <td>918</td>\n",
       "      <td>+91 9663487993</td>\n",
       "      <td>Banashankari</td>\n",
       "      <td>Cafe, Casual Dining</td>\n",
       "      <td>Churros, Cannelloni, Minestrone Soup, Hot Choc...</td>\n",
       "      <td>Cafe, Mexican, Italian</td>\n",
       "      <td>800</td>\n",
       "      <td>[('Rated 3.0', \"RATED\\n  Ambience is not that ...</td>\n",
       "      <td>[]</td>\n",
       "      <td>Buffet</td>\n",
       "      <td>Banashankari</td>\n",
       "    </tr>\n",
       "    <tr>\n",
       "      <th>3</th>\n",
       "      <td>https://www.zomato.com/bangalore/addhuri-udupi...</td>\n",
       "      <td>1st Floor, Annakuteera, 3rd Stage, Banashankar...</td>\n",
       "      <td>Addhuri Udupi Bhojana</td>\n",
       "      <td>No</td>\n",
       "      <td>No</td>\n",
       "      <td>3.7/5</td>\n",
       "      <td>88</td>\n",
       "      <td>+91 9620009302</td>\n",
       "      <td>Banashankari</td>\n",
       "      <td>Quick Bites</td>\n",
       "      <td>Masala Dosa</td>\n",
       "      <td>South Indian, North Indian</td>\n",
       "      <td>300</td>\n",
       "      <td>[('Rated 4.0', \"RATED\\n  Great food and proper...</td>\n",
       "      <td>[]</td>\n",
       "      <td>Buffet</td>\n",
       "      <td>Banashankari</td>\n",
       "    </tr>\n",
       "    <tr>\n",
       "      <th>4</th>\n",
       "      <td>https://www.zomato.com/bangalore/grand-village...</td>\n",
       "      <td>10, 3rd Floor, Lakshmi Associates, Gandhi Baza...</td>\n",
       "      <td>Grand Village</td>\n",
       "      <td>No</td>\n",
       "      <td>No</td>\n",
       "      <td>3.8/5</td>\n",
       "      <td>166</td>\n",
       "      <td>+91 8026612447\\r\\n+91 9901210005</td>\n",
       "      <td>Basavanagudi</td>\n",
       "      <td>Casual Dining</td>\n",
       "      <td>Panipuri, Gol Gappe</td>\n",
       "      <td>North Indian, Rajasthani</td>\n",
       "      <td>600</td>\n",
       "      <td>[('Rated 4.0', 'RATED\\n  Very good restaurant ...</td>\n",
       "      <td>[]</td>\n",
       "      <td>Buffet</td>\n",
       "      <td>Banashankari</td>\n",
       "    </tr>\n",
       "  </tbody>\n",
       "</table>\n",
       "</div>"
      ],
      "text/plain": [
       "                                                 url  \\\n",
       "0  https://www.zomato.com/bangalore/jalsa-banasha...   \n",
       "1  https://www.zomato.com/bangalore/spice-elephan...   \n",
       "2  https://www.zomato.com/SanchurroBangalore?cont...   \n",
       "3  https://www.zomato.com/bangalore/addhuri-udupi...   \n",
       "4  https://www.zomato.com/bangalore/grand-village...   \n",
       "\n",
       "                                             address                   name  \\\n",
       "0  942, 21st Main Road, 2nd Stage, Banashankari, ...                  Jalsa   \n",
       "1  2nd Floor, 80 Feet Road, Near Big Bazaar, 6th ...         Spice Elephant   \n",
       "2  1112, Next to KIMS Medical College, 17th Cross...        San Churro Cafe   \n",
       "3  1st Floor, Annakuteera, 3rd Stage, Banashankar...  Addhuri Udupi Bhojana   \n",
       "4  10, 3rd Floor, Lakshmi Associates, Gandhi Baza...          Grand Village   \n",
       "\n",
       "  online_order book_table   rate  votes                             phone  \\\n",
       "0          Yes        Yes  4.1/5    775    080 42297555\\r\\n+91 9743772233   \n",
       "1          Yes         No  4.1/5    787                      080 41714161   \n",
       "2          Yes         No  3.8/5    918                    +91 9663487993   \n",
       "3           No         No  3.7/5     88                    +91 9620009302   \n",
       "4           No         No  3.8/5    166  +91 8026612447\\r\\n+91 9901210005   \n",
       "\n",
       "       location            rest_type  \\\n",
       "0  Banashankari        Casual Dining   \n",
       "1  Banashankari        Casual Dining   \n",
       "2  Banashankari  Cafe, Casual Dining   \n",
       "3  Banashankari          Quick Bites   \n",
       "4  Basavanagudi        Casual Dining   \n",
       "\n",
       "                                          dish_liked  \\\n",
       "0  Pasta, Lunch Buffet, Masala Papad, Paneer Laja...   \n",
       "1  Momos, Lunch Buffet, Chocolate Nirvana, Thai G...   \n",
       "2  Churros, Cannelloni, Minestrone Soup, Hot Choc...   \n",
       "3                                        Masala Dosa   \n",
       "4                                Panipuri, Gol Gappe   \n",
       "\n",
       "                         cuisines approx_cost(for two people)  \\\n",
       "0  North Indian, Mughlai, Chinese                         800   \n",
       "1     Chinese, North Indian, Thai                         800   \n",
       "2          Cafe, Mexican, Italian                         800   \n",
       "3      South Indian, North Indian                         300   \n",
       "4        North Indian, Rajasthani                         600   \n",
       "\n",
       "                                        reviews_list menu_item  \\\n",
       "0  [('Rated 4.0', 'RATED\\n  A beautiful place to ...        []   \n",
       "1  [('Rated 4.0', 'RATED\\n  Had been here for din...        []   \n",
       "2  [('Rated 3.0', \"RATED\\n  Ambience is not that ...        []   \n",
       "3  [('Rated 4.0', \"RATED\\n  Great food and proper...        []   \n",
       "4  [('Rated 4.0', 'RATED\\n  Very good restaurant ...        []   \n",
       "\n",
       "  listed_in(type) listed_in(city)  \n",
       "0          Buffet    Banashankari  \n",
       "1          Buffet    Banashankari  \n",
       "2          Buffet    Banashankari  \n",
       "3          Buffet    Banashankari  \n",
       "4          Buffet    Banashankari  "
      ]
     },
     "execution_count": 288,
     "metadata": {},
     "output_type": "execute_result"
    }
   ],
   "source": [
    "df.head(5)"
   ]
  },
  {
   "cell_type": "code",
   "execution_count": 289,
   "metadata": {
    "execution": {
     "iopub.execute_input": "2023-03-31T15:42:37.190336Z",
     "iopub.status.busy": "2023-03-31T15:42:37.189394Z",
     "iopub.status.idle": "2023-03-31T15:42:37.198828Z",
     "shell.execute_reply": "2023-03-31T15:42:37.197107Z",
     "shell.execute_reply.started": "2023-03-31T15:42:37.190290Z"
    }
   },
   "outputs": [
    {
     "data": {
      "text/plain": [
       "Index(['url', 'address', 'name', 'online_order', 'book_table', 'rate', 'votes',\n",
       "       'phone', 'location', 'rest_type', 'dish_liked', 'cuisines',\n",
       "       'approx_cost(for two people)', 'reviews_list', 'menu_item',\n",
       "       'listed_in(type)', 'listed_in(city)'],\n",
       "      dtype='object')"
      ]
     },
     "execution_count": 289,
     "metadata": {},
     "output_type": "execute_result"
    }
   ],
   "source": [
    "df.columns"
   ]
  },
  {
   "cell_type": "code",
   "execution_count": 290,
   "metadata": {
    "execution": {
     "iopub.execute_input": "2023-03-31T15:42:37.200569Z",
     "iopub.status.busy": "2023-03-31T15:42:37.200209Z",
     "iopub.status.idle": "2023-03-31T15:42:37.211857Z",
     "shell.execute_reply": "2023-03-31T15:42:37.210454Z",
     "shell.execute_reply.started": "2023-03-31T15:42:37.200535Z"
    }
   },
   "outputs": [
    {
     "data": {
      "text/plain": [
       "url                            object\n",
       "address                        object\n",
       "name                           object\n",
       "online_order                   object\n",
       "book_table                     object\n",
       "rate                           object\n",
       "votes                           int64\n",
       "phone                          object\n",
       "location                       object\n",
       "rest_type                      object\n",
       "dish_liked                     object\n",
       "cuisines                       object\n",
       "approx_cost(for two people)    object\n",
       "reviews_list                   object\n",
       "menu_item                      object\n",
       "listed_in(type)                object\n",
       "listed_in(city)                object\n",
       "dtype: object"
      ]
     },
     "execution_count": 290,
     "metadata": {},
     "output_type": "execute_result"
    }
   ],
   "source": [
    "df.dtypes"
   ]
  },
  {
   "cell_type": "markdown",
   "metadata": {},
   "source": [
    "Columns like url, address, phone, dish_liked, cuisines, menu_item will not play important role in this analysis therefore dropping these columns."
   ]
  },
  {
   "cell_type": "code",
   "execution_count": 291,
   "metadata": {
    "execution": {
     "iopub.execute_input": "2023-03-31T15:42:37.213646Z",
     "iopub.status.busy": "2023-03-31T15:42:37.213273Z",
     "iopub.status.idle": "2023-03-31T15:42:37.226324Z",
     "shell.execute_reply": "2023-03-31T15:42:37.225185Z",
     "shell.execute_reply.started": "2023-03-31T15:42:37.213611Z"
    }
   },
   "outputs": [],
   "source": [
    "df = df.drop(['url', 'address', 'phone', 'dish_liked', 'cuisines', 'reviews_list', 'menu_item'], axis = 1)"
   ]
  },
  {
   "cell_type": "code",
   "execution_count": 292,
   "metadata": {
    "execution": {
     "iopub.execute_input": "2023-03-31T15:42:37.228438Z",
     "iopub.status.busy": "2023-03-31T15:42:37.228061Z",
     "iopub.status.idle": "2023-03-31T15:42:37.235658Z",
     "shell.execute_reply": "2023-03-31T15:42:37.234661Z",
     "shell.execute_reply.started": "2023-03-31T15:42:37.228371Z"
    }
   },
   "outputs": [
    {
     "data": {
      "text/plain": [
       "Index(['name', 'online_order', 'book_table', 'rate', 'votes', 'location',\n",
       "       'rest_type', 'approx_cost(for two people)', 'listed_in(type)',\n",
       "       'listed_in(city)'],\n",
       "      dtype='object')"
      ]
     },
     "execution_count": 292,
     "metadata": {},
     "output_type": "execute_result"
    }
   ],
   "source": [
    "df.columns"
   ]
  },
  {
   "cell_type": "code",
   "execution_count": 293,
   "metadata": {
    "execution": {
     "iopub.execute_input": "2023-03-31T15:42:37.237219Z",
     "iopub.status.busy": "2023-03-31T15:42:37.236839Z",
     "iopub.status.idle": "2023-03-31T15:42:37.273566Z",
     "shell.execute_reply": "2023-03-31T15:42:37.272348Z",
     "shell.execute_reply.started": "2023-03-31T15:42:37.237184Z"
    }
   },
   "outputs": [
    {
     "data": {
      "text/plain": [
       "name                            0.000000\n",
       "online_order                    0.000000\n",
       "book_table                      0.000000\n",
       "rate                           15.033741\n",
       "votes                           0.000000\n",
       "location                        0.040606\n",
       "rest_type                       0.438927\n",
       "approx_cost(for two people)     0.669026\n",
       "listed_in(type)                 0.000000\n",
       "listed_in(city)                 0.000000\n",
       "dtype: float64"
      ]
     },
     "execution_count": 293,
     "metadata": {},
     "output_type": "execute_result"
    }
   ],
   "source": [
    "df.isnull().mean()*100"
   ]
  },
  {
   "cell_type": "markdown",
   "metadata": {},
   "source": [
    "# Data Cleaning"
   ]
  },
  {
   "cell_type": "markdown",
   "metadata": {},
   "source": [
    "### Handling Missing Data"
   ]
  },
  {
   "cell_type": "markdown",
   "metadata": {},
   "source": [
    "First lets deal with the rate column."
   ]
  },
  {
   "cell_type": "code",
   "execution_count": 294,
   "metadata": {
    "execution": {
     "iopub.execute_input": "2023-03-31T15:42:37.276242Z",
     "iopub.status.busy": "2023-03-31T15:42:37.275397Z",
     "iopub.status.idle": "2023-03-31T15:42:37.324337Z",
     "shell.execute_reply": "2023-03-31T15:42:37.322951Z",
     "shell.execute_reply.started": "2023-03-31T15:42:37.276200Z"
    }
   },
   "outputs": [],
   "source": [
    "rate_temp=[]\n",
    "for i in df.rate:\n",
    "    s=str(i).split('/')\n",
    "    rate_temp.append(s[0])\n",
    "df.rate=rate_temp"
   ]
  },
  {
   "cell_type": "code",
   "execution_count": 295,
   "metadata": {
    "execution": {
     "iopub.execute_input": "2023-03-31T15:42:37.330334Z",
     "iopub.status.busy": "2023-03-31T15:42:37.329909Z",
     "iopub.status.idle": "2023-03-31T15:42:37.342537Z",
     "shell.execute_reply": "2023-03-31T15:42:37.341130Z",
     "shell.execute_reply.started": "2023-03-31T15:42:37.330288Z"
    }
   },
   "outputs": [
    {
     "data": {
      "text/plain": [
       "array(['4.1', '3.8', '3.7', '3.6', '4.6', '4.0', '4.2', '3.9', '3.1',\n",
       "       '3.0', '3.2', '3.3', '2.8', '4.4', '4.3', 'NEW', '2.9', '3.5',\n",
       "       'nan', '2.6', '3.8 ', '3.4', '4.5', '2.5', '2.7', '4.7', '2.4',\n",
       "       '2.2', '2.3', '3.4 ', '-', '3.6 ', '4.8', '3.9 ', '4.2 ', '4.0 ',\n",
       "       '4.1 ', '3.7 ', '3.1 ', '2.9 ', '3.3 ', '2.8 ', '3.5 ', '2.7 ',\n",
       "       '2.5 ', '3.2 ', '2.6 ', '4.5 ', '4.3 ', '4.4 ', '4.9', '2.1',\n",
       "       '2.0', '1.8', '4.6 ', '4.9 ', '3.0 ', '4.8 ', '2.3 ', '4.7 ',\n",
       "       '2.4 ', '2.1 ', '2.2 ', '2.0 ', '1.8 '], dtype=object)"
      ]
     },
     "execution_count": 295,
     "metadata": {},
     "output_type": "execute_result"
    }
   ],
   "source": [
    "df.rate.unique()"
   ]
  },
  {
   "cell_type": "code",
   "execution_count": 296,
   "metadata": {
    "execution": {
     "iopub.execute_input": "2023-03-31T15:42:37.344896Z",
     "iopub.status.busy": "2023-03-31T15:42:37.344360Z",
     "iopub.status.idle": "2023-03-31T15:42:37.359985Z",
     "shell.execute_reply": "2023-03-31T15:42:37.358747Z",
     "shell.execute_reply.started": "2023-03-31T15:42:37.344845Z"
    }
   },
   "outputs": [],
   "source": [
    "df.loc[(df.rate==\"NEW\"),\"rate\"]=0"
   ]
  },
  {
   "cell_type": "code",
   "execution_count": 297,
   "metadata": {
    "execution": {
     "iopub.execute_input": "2023-03-31T15:42:37.362892Z",
     "iopub.status.busy": "2023-03-31T15:42:37.362323Z",
     "iopub.status.idle": "2023-03-31T15:42:37.391150Z",
     "shell.execute_reply": "2023-03-31T15:42:37.389588Z",
     "shell.execute_reply.started": "2023-03-31T15:42:37.362838Z"
    }
   },
   "outputs": [
    {
     "data": {
      "text/html": [
       "<div>\n",
       "<style scoped>\n",
       "    .dataframe tbody tr th:only-of-type {\n",
       "        vertical-align: middle;\n",
       "    }\n",
       "\n",
       "    .dataframe tbody tr th {\n",
       "        vertical-align: top;\n",
       "    }\n",
       "\n",
       "    .dataframe thead th {\n",
       "        text-align: right;\n",
       "    }\n",
       "</style>\n",
       "<table border=\"1\" class=\"dataframe\">\n",
       "  <thead>\n",
       "    <tr style=\"text-align: right;\">\n",
       "      <th></th>\n",
       "      <th>name</th>\n",
       "      <th>online_order</th>\n",
       "      <th>book_table</th>\n",
       "      <th>rate</th>\n",
       "      <th>votes</th>\n",
       "      <th>location</th>\n",
       "      <th>rest_type</th>\n",
       "      <th>approx_cost(for two people)</th>\n",
       "      <th>listed_in(type)</th>\n",
       "      <th>listed_in(city)</th>\n",
       "    </tr>\n",
       "  </thead>\n",
       "  <tbody>\n",
       "    <tr>\n",
       "      <th>3068</th>\n",
       "      <td>House of Tasty Food</td>\n",
       "      <td>No</td>\n",
       "      <td>No</td>\n",
       "      <td>-</td>\n",
       "      <td>0</td>\n",
       "      <td>Wilson Garden</td>\n",
       "      <td>Quick Bites</td>\n",
       "      <td>400</td>\n",
       "      <td>Delivery</td>\n",
       "      <td>Basavanagudi</td>\n",
       "    </tr>\n",
       "    <tr>\n",
       "      <th>3069</th>\n",
       "      <td>Super Chef's (New Royal treat)</td>\n",
       "      <td>No</td>\n",
       "      <td>No</td>\n",
       "      <td>-</td>\n",
       "      <td>0</td>\n",
       "      <td>Bannerghatta Road</td>\n",
       "      <td>Quick Bites</td>\n",
       "      <td>NaN</td>\n",
       "      <td>Delivery</td>\n",
       "      <td>Basavanagudi</td>\n",
       "    </tr>\n",
       "    <tr>\n",
       "      <th>3373</th>\n",
       "      <td>Right Pizza</td>\n",
       "      <td>Yes</td>\n",
       "      <td>No</td>\n",
       "      <td>-</td>\n",
       "      <td>0</td>\n",
       "      <td>Basavanagudi</td>\n",
       "      <td>Quick Bites</td>\n",
       "      <td>300</td>\n",
       "      <td>Dine-out</td>\n",
       "      <td>Basavanagudi</td>\n",
       "    </tr>\n",
       "    <tr>\n",
       "      <th>3378</th>\n",
       "      <td>Mezban Family Restaurant</td>\n",
       "      <td>Yes</td>\n",
       "      <td>No</td>\n",
       "      <td>-</td>\n",
       "      <td>0</td>\n",
       "      <td>Basavanagudi</td>\n",
       "      <td>Quick Bites</td>\n",
       "      <td>300</td>\n",
       "      <td>Dine-out</td>\n",
       "      <td>Basavanagudi</td>\n",
       "    </tr>\n",
       "    <tr>\n",
       "      <th>3387</th>\n",
       "      <td>Mota Bawarchi</td>\n",
       "      <td>No</td>\n",
       "      <td>No</td>\n",
       "      <td>-</td>\n",
       "      <td>0</td>\n",
       "      <td>Basavanagudi</td>\n",
       "      <td>Quick Bites</td>\n",
       "      <td>300</td>\n",
       "      <td>Dine-out</td>\n",
       "      <td>Basavanagudi</td>\n",
       "    </tr>\n",
       "    <tr>\n",
       "      <th>...</th>\n",
       "      <td>...</td>\n",
       "      <td>...</td>\n",
       "      <td>...</td>\n",
       "      <td>...</td>\n",
       "      <td>...</td>\n",
       "      <td>...</td>\n",
       "      <td>...</td>\n",
       "      <td>...</td>\n",
       "      <td>...</td>\n",
       "      <td>...</td>\n",
       "    </tr>\n",
       "    <tr>\n",
       "      <th>33454</th>\n",
       "      <td>Deepam Tiffins</td>\n",
       "      <td>No</td>\n",
       "      <td>No</td>\n",
       "      <td>-</td>\n",
       "      <td>0</td>\n",
       "      <td>BTM</td>\n",
       "      <td>Quick Bites</td>\n",
       "      <td>300</td>\n",
       "      <td>Delivery</td>\n",
       "      <td>Koramangala 6th Block</td>\n",
       "    </tr>\n",
       "    <tr>\n",
       "      <th>33463</th>\n",
       "      <td>Hotel Orchid</td>\n",
       "      <td>No</td>\n",
       "      <td>No</td>\n",
       "      <td>-</td>\n",
       "      <td>0</td>\n",
       "      <td>BTM</td>\n",
       "      <td>Casual Dining</td>\n",
       "      <td>500</td>\n",
       "      <td>Delivery</td>\n",
       "      <td>Koramangala 6th Block</td>\n",
       "    </tr>\n",
       "    <tr>\n",
       "      <th>45646</th>\n",
       "      <td>Sri Udupi</td>\n",
       "      <td>Yes</td>\n",
       "      <td>No</td>\n",
       "      <td>-</td>\n",
       "      <td>0</td>\n",
       "      <td>Old Airport Road</td>\n",
       "      <td>Quick Bites</td>\n",
       "      <td>400</td>\n",
       "      <td>Dine-out</td>\n",
       "      <td>Old Airport Road</td>\n",
       "    </tr>\n",
       "    <tr>\n",
       "      <th>45647</th>\n",
       "      <td>Frozen Bite</td>\n",
       "      <td>Yes</td>\n",
       "      <td>No</td>\n",
       "      <td>-</td>\n",
       "      <td>0</td>\n",
       "      <td>Old Airport Road</td>\n",
       "      <td>Beverage Shop</td>\n",
       "      <td>250</td>\n",
       "      <td>Dine-out</td>\n",
       "      <td>Old Airport Road</td>\n",
       "    </tr>\n",
       "    <tr>\n",
       "      <th>48139</th>\n",
       "      <td>Dad's Coffee Club</td>\n",
       "      <td>No</td>\n",
       "      <td>No</td>\n",
       "      <td>-</td>\n",
       "      <td>0</td>\n",
       "      <td>Residency Road</td>\n",
       "      <td>Cafe</td>\n",
       "      <td>200</td>\n",
       "      <td>Dine-out</td>\n",
       "      <td>Residency Road</td>\n",
       "    </tr>\n",
       "  </tbody>\n",
       "</table>\n",
       "<p>69 rows × 10 columns</p>\n",
       "</div>"
      ],
      "text/plain": [
       "                                 name online_order book_table rate  votes  \\\n",
       "3068              House of Tasty Food           No         No    -      0   \n",
       "3069   Super Chef's (New Royal treat)           No         No    -      0   \n",
       "3373                      Right Pizza          Yes         No    -      0   \n",
       "3378         Mezban Family Restaurant          Yes         No    -      0   \n",
       "3387                    Mota Bawarchi           No         No    -      0   \n",
       "...                               ...          ...        ...  ...    ...   \n",
       "33454                  Deepam Tiffins           No         No    -      0   \n",
       "33463                    Hotel Orchid           No         No    -      0   \n",
       "45646                       Sri Udupi          Yes         No    -      0   \n",
       "45647                     Frozen Bite          Yes         No    -      0   \n",
       "48139               Dad's Coffee Club           No         No    -      0   \n",
       "\n",
       "                location      rest_type approx_cost(for two people)  \\\n",
       "3068       Wilson Garden    Quick Bites                         400   \n",
       "3069   Bannerghatta Road    Quick Bites                         NaN   \n",
       "3373        Basavanagudi    Quick Bites                         300   \n",
       "3378        Basavanagudi    Quick Bites                         300   \n",
       "3387        Basavanagudi    Quick Bites                         300   \n",
       "...                  ...            ...                         ...   \n",
       "33454                BTM    Quick Bites                         300   \n",
       "33463                BTM  Casual Dining                         500   \n",
       "45646   Old Airport Road    Quick Bites                         400   \n",
       "45647   Old Airport Road  Beverage Shop                         250   \n",
       "48139     Residency Road           Cafe                         200   \n",
       "\n",
       "      listed_in(type)        listed_in(city)  \n",
       "3068         Delivery           Basavanagudi  \n",
       "3069         Delivery           Basavanagudi  \n",
       "3373         Dine-out           Basavanagudi  \n",
       "3378         Dine-out           Basavanagudi  \n",
       "3387         Dine-out           Basavanagudi  \n",
       "...               ...                    ...  \n",
       "33454        Delivery  Koramangala 6th Block  \n",
       "33463        Delivery  Koramangala 6th Block  \n",
       "45646        Dine-out       Old Airport Road  \n",
       "45647        Dine-out       Old Airport Road  \n",
       "48139        Dine-out         Residency Road  \n",
       "\n",
       "[69 rows x 10 columns]"
      ]
     },
     "execution_count": 297,
     "metadata": {},
     "output_type": "execute_result"
    }
   ],
   "source": [
    "df[df.rate==\"-\"]"
   ]
  },
  {
   "cell_type": "code",
   "execution_count": 298,
   "metadata": {
    "execution": {
     "iopub.execute_input": "2023-03-31T15:42:37.393303Z",
     "iopub.status.busy": "2023-03-31T15:42:37.392914Z",
     "iopub.status.idle": "2023-03-31T15:42:37.407187Z",
     "shell.execute_reply": "2023-03-31T15:42:37.405056Z",
     "shell.execute_reply.started": "2023-03-31T15:42:37.393266Z"
    }
   },
   "outputs": [],
   "source": [
    "df.loc[(df.rate==\"-\"),\"rate\"]=0"
   ]
  },
  {
   "cell_type": "code",
   "execution_count": 299,
   "metadata": {
    "execution": {
     "iopub.execute_input": "2023-03-31T15:42:37.409751Z",
     "iopub.status.busy": "2023-03-31T15:42:37.409217Z",
     "iopub.status.idle": "2023-03-31T15:42:37.430800Z",
     "shell.execute_reply": "2023-03-31T15:42:37.429689Z",
     "shell.execute_reply.started": "2023-03-31T15:42:37.409710Z"
    }
   },
   "outputs": [],
   "source": [
    "df=df.astype({'rate': 'float'})"
   ]
  },
  {
   "cell_type": "code",
   "execution_count": 300,
   "metadata": {
    "execution": {
     "iopub.execute_input": "2023-03-31T15:42:37.432346Z",
     "iopub.status.busy": "2023-03-31T15:42:37.431974Z",
     "iopub.status.idle": "2023-03-31T15:42:37.477527Z",
     "shell.execute_reply": "2023-03-31T15:42:37.476113Z",
     "shell.execute_reply.started": "2023-03-31T15:42:37.432311Z"
    }
   },
   "outputs": [
    {
     "data": {
      "text/html": [
       "<div>\n",
       "<style scoped>\n",
       "    .dataframe tbody tr th:only-of-type {\n",
       "        vertical-align: middle;\n",
       "    }\n",
       "\n",
       "    .dataframe tbody tr th {\n",
       "        vertical-align: top;\n",
       "    }\n",
       "\n",
       "    .dataframe thead th {\n",
       "        text-align: right;\n",
       "    }\n",
       "</style>\n",
       "<table border=\"1\" class=\"dataframe\">\n",
       "  <thead>\n",
       "    <tr style=\"text-align: right;\">\n",
       "      <th></th>\n",
       "      <th>name</th>\n",
       "      <th>online_order</th>\n",
       "      <th>book_table</th>\n",
       "      <th>rate</th>\n",
       "      <th>votes</th>\n",
       "      <th>location</th>\n",
       "      <th>rest_type</th>\n",
       "      <th>approx_cost(for two people)</th>\n",
       "      <th>listed_in(type)</th>\n",
       "      <th>listed_in(city)</th>\n",
       "    </tr>\n",
       "  </thead>\n",
       "  <tbody>\n",
       "    <tr>\n",
       "      <th>84</th>\n",
       "      <td>Chill Out</td>\n",
       "      <td>No</td>\n",
       "      <td>No</td>\n",
       "      <td>NaN</td>\n",
       "      <td>0</td>\n",
       "      <td>Banashankari</td>\n",
       "      <td>Quick Bites</td>\n",
       "      <td>100</td>\n",
       "      <td>Delivery</td>\n",
       "      <td>Banashankari</td>\n",
       "    </tr>\n",
       "    <tr>\n",
       "      <th>90</th>\n",
       "      <td>Me And My Cake</td>\n",
       "      <td>No</td>\n",
       "      <td>No</td>\n",
       "      <td>NaN</td>\n",
       "      <td>0</td>\n",
       "      <td>Banashankari</td>\n",
       "      <td>Delivery</td>\n",
       "      <td>500</td>\n",
       "      <td>Delivery</td>\n",
       "      <td>Banashankari</td>\n",
       "    </tr>\n",
       "    <tr>\n",
       "      <th>91</th>\n",
       "      <td>Sunsadm</td>\n",
       "      <td>No</td>\n",
       "      <td>No</td>\n",
       "      <td>NaN</td>\n",
       "      <td>0</td>\n",
       "      <td>Banashankari</td>\n",
       "      <td>Takeaway, Delivery</td>\n",
       "      <td>400</td>\n",
       "      <td>Delivery</td>\n",
       "      <td>Banashankari</td>\n",
       "    </tr>\n",
       "    <tr>\n",
       "      <th>92</th>\n",
       "      <td>Annapooraneshwari Mess</td>\n",
       "      <td>No</td>\n",
       "      <td>No</td>\n",
       "      <td>NaN</td>\n",
       "      <td>0</td>\n",
       "      <td>Banashankari</td>\n",
       "      <td>Mess</td>\n",
       "      <td>200</td>\n",
       "      <td>Delivery</td>\n",
       "      <td>Banashankari</td>\n",
       "    </tr>\n",
       "    <tr>\n",
       "      <th>107</th>\n",
       "      <td>Coffee Shopee</td>\n",
       "      <td>No</td>\n",
       "      <td>No</td>\n",
       "      <td>NaN</td>\n",
       "      <td>0</td>\n",
       "      <td>Banashankari</td>\n",
       "      <td>Takeaway, Delivery</td>\n",
       "      <td>250</td>\n",
       "      <td>Delivery</td>\n",
       "      <td>Banashankari</td>\n",
       "    </tr>\n",
       "    <tr>\n",
       "      <th>...</th>\n",
       "      <td>...</td>\n",
       "      <td>...</td>\n",
       "      <td>...</td>\n",
       "      <td>...</td>\n",
       "      <td>...</td>\n",
       "      <td>...</td>\n",
       "      <td>...</td>\n",
       "      <td>...</td>\n",
       "      <td>...</td>\n",
       "      <td>...</td>\n",
       "    </tr>\n",
       "    <tr>\n",
       "      <th>51644</th>\n",
       "      <td>Punjabi Thadka</td>\n",
       "      <td>No</td>\n",
       "      <td>No</td>\n",
       "      <td>NaN</td>\n",
       "      <td>0</td>\n",
       "      <td>Brookefield</td>\n",
       "      <td>Quick Bites</td>\n",
       "      <td>400</td>\n",
       "      <td>Dine-out</td>\n",
       "      <td>Whitefield</td>\n",
       "    </tr>\n",
       "    <tr>\n",
       "      <th>51675</th>\n",
       "      <td>Topsy Turvey</td>\n",
       "      <td>No</td>\n",
       "      <td>No</td>\n",
       "      <td>NaN</td>\n",
       "      <td>0</td>\n",
       "      <td>Whitefield</td>\n",
       "      <td>Bar</td>\n",
       "      <td>900</td>\n",
       "      <td>Drinks &amp; nightlife</td>\n",
       "      <td>Whitefield</td>\n",
       "    </tr>\n",
       "    <tr>\n",
       "      <th>51710</th>\n",
       "      <td>Topsy Turvey</td>\n",
       "      <td>No</td>\n",
       "      <td>No</td>\n",
       "      <td>NaN</td>\n",
       "      <td>0</td>\n",
       "      <td>Whitefield</td>\n",
       "      <td>Bar</td>\n",
       "      <td>900</td>\n",
       "      <td>Pubs and bars</td>\n",
       "      <td>Whitefield</td>\n",
       "    </tr>\n",
       "    <tr>\n",
       "      <th>51713</th>\n",
       "      <td>Vinod Bar And Restaurant</td>\n",
       "      <td>No</td>\n",
       "      <td>No</td>\n",
       "      <td>NaN</td>\n",
       "      <td>0</td>\n",
       "      <td>Whitefield</td>\n",
       "      <td>Bar</td>\n",
       "      <td>600</td>\n",
       "      <td>Pubs and bars</td>\n",
       "      <td>Whitefield</td>\n",
       "    </tr>\n",
       "    <tr>\n",
       "      <th>51714</th>\n",
       "      <td>Plunge - Sheraton Grand Bengaluru Whitefield H...</td>\n",
       "      <td>No</td>\n",
       "      <td>No</td>\n",
       "      <td>NaN</td>\n",
       "      <td>0</td>\n",
       "      <td>Whitefield</td>\n",
       "      <td>Bar</td>\n",
       "      <td>2,000</td>\n",
       "      <td>Pubs and bars</td>\n",
       "      <td>Whitefield</td>\n",
       "    </tr>\n",
       "  </tbody>\n",
       "</table>\n",
       "<p>7775 rows × 10 columns</p>\n",
       "</div>"
      ],
      "text/plain": [
       "                                                    name online_order  \\\n",
       "84                                             Chill Out           No   \n",
       "90                                        Me And My Cake           No   \n",
       "91                                               Sunsadm           No   \n",
       "92                                Annapooraneshwari Mess           No   \n",
       "107                                        Coffee Shopee           No   \n",
       "...                                                  ...          ...   \n",
       "51644                                     Punjabi Thadka           No   \n",
       "51675                                       Topsy Turvey           No   \n",
       "51710                                       Topsy Turvey           No   \n",
       "51713                           Vinod Bar And Restaurant           No   \n",
       "51714  Plunge - Sheraton Grand Bengaluru Whitefield H...           No   \n",
       "\n",
       "      book_table  rate  votes      location           rest_type  \\\n",
       "84            No   NaN      0  Banashankari         Quick Bites   \n",
       "90            No   NaN      0  Banashankari            Delivery   \n",
       "91            No   NaN      0  Banashankari  Takeaway, Delivery   \n",
       "92            No   NaN      0  Banashankari                Mess   \n",
       "107           No   NaN      0  Banashankari  Takeaway, Delivery   \n",
       "...          ...   ...    ...           ...                 ...   \n",
       "51644         No   NaN      0   Brookefield         Quick Bites   \n",
       "51675         No   NaN      0    Whitefield                 Bar   \n",
       "51710         No   NaN      0    Whitefield                 Bar   \n",
       "51713         No   NaN      0    Whitefield                 Bar   \n",
       "51714         No   NaN      0    Whitefield                 Bar   \n",
       "\n",
       "      approx_cost(for two people)     listed_in(type) listed_in(city)  \n",
       "84                            100            Delivery    Banashankari  \n",
       "90                            500            Delivery    Banashankari  \n",
       "91                            400            Delivery    Banashankari  \n",
       "92                            200            Delivery    Banashankari  \n",
       "107                           250            Delivery    Banashankari  \n",
       "...                           ...                 ...             ...  \n",
       "51644                         400            Dine-out      Whitefield  \n",
       "51675                         900  Drinks & nightlife      Whitefield  \n",
       "51710                         900       Pubs and bars      Whitefield  \n",
       "51713                         600       Pubs and bars      Whitefield  \n",
       "51714                       2,000       Pubs and bars      Whitefield  \n",
       "\n",
       "[7775 rows x 10 columns]"
      ]
     },
     "execution_count": 300,
     "metadata": {},
     "output_type": "execute_result"
    }
   ],
   "source": [
    "df[df.rate.isnull()]"
   ]
  },
  {
   "cell_type": "markdown",
   "metadata": {},
   "source": [
    "It can be observed that all the rows which has null value in rate has 0 in votes. This can because the restaurants are newly opened therefore there is no rating for these restaurants.\n",
    "\n",
    "Lets further investigate into this for better understanding."
   ]
  },
  {
   "cell_type": "code",
   "execution_count": 301,
   "metadata": {
    "execution": {
     "iopub.execute_input": "2023-03-31T15:42:37.480255Z",
     "iopub.status.busy": "2023-03-31T15:42:37.479364Z",
     "iopub.status.idle": "2023-03-31T15:42:37.496402Z",
     "shell.execute_reply": "2023-03-31T15:42:37.494449Z",
     "shell.execute_reply.started": "2023-03-31T15:42:37.480201Z"
    }
   },
   "outputs": [
    {
     "data": {
      "text/plain": [
       "7775"
      ]
     },
     "execution_count": 301,
     "metadata": {},
     "output_type": "execute_result"
    }
   ],
   "source": [
    "len(df[df.rate.isnull()])"
   ]
  },
  {
   "cell_type": "code",
   "execution_count": 302,
   "metadata": {
    "execution": {
     "iopub.execute_input": "2023-03-31T15:42:37.499568Z",
     "iopub.status.busy": "2023-03-31T15:42:37.498481Z",
     "iopub.status.idle": "2023-03-31T15:42:37.510985Z",
     "shell.execute_reply": "2023-03-31T15:42:37.509684Z",
     "shell.execute_reply.started": "2023-03-31T15:42:37.499524Z"
    }
   },
   "outputs": [
    {
     "data": {
      "text/plain": [
       "7731"
      ]
     },
     "execution_count": 302,
     "metadata": {},
     "output_type": "execute_result"
    }
   ],
   "source": [
    "len(df.loc[(df.rate.isnull()) & (df.votes==0)])"
   ]
  },
  {
   "cell_type": "markdown",
   "metadata": {},
   "source": [
    "Therefore not all rows having null value in rate is having 0 in votes.\n",
    "\n",
    "Lets first deal with all the rows having null value in rate and 0 in votes. These restaurants are surely newly opened and has not recieved any rating yet. Replacing all these rows with rating 0."
   ]
  },
  {
   "cell_type": "code",
   "execution_count": 303,
   "metadata": {
    "execution": {
     "iopub.execute_input": "2023-03-31T15:42:37.513735Z",
     "iopub.status.busy": "2023-03-31T15:42:37.512598Z",
     "iopub.status.idle": "2023-03-31T15:42:37.521594Z",
     "shell.execute_reply": "2023-03-31T15:42:37.520414Z",
     "shell.execute_reply.started": "2023-03-31T15:42:37.513692Z"
    }
   },
   "outputs": [],
   "source": [
    "df.loc[(df.rate.isnull()) & (df.votes==0),\"rate\"]=0"
   ]
  },
  {
   "cell_type": "code",
   "execution_count": 304,
   "metadata": {
    "execution": {
     "iopub.execute_input": "2023-03-31T15:42:37.524075Z",
     "iopub.status.busy": "2023-03-31T15:42:37.523299Z",
     "iopub.status.idle": "2023-03-31T15:42:37.828692Z",
     "shell.execute_reply": "2023-03-31T15:42:37.827398Z",
     "shell.execute_reply.started": "2023-03-31T15:42:37.524035Z"
    }
   },
   "outputs": [
    {
     "name": "stderr",
     "output_type": "stream",
     "text": [
      "/opt/conda/lib/python3.7/site-packages/ipykernel_launcher.py:1: UserWarning: \n",
      "\n",
      "`distplot` is a deprecated function and will be removed in seaborn v0.14.0.\n",
      "\n",
      "Please adapt your code to use either `displot` (a figure-level function with\n",
      "similar flexibility) or `histplot` (an axes-level function for histograms).\n",
      "\n",
      "For a guide to updating your code to use the new functions, please see\n",
      "https://gist.github.com/mwaskom/de44147ed2974457ad6372750bbe5751\n",
      "\n",
      "  \"\"\"Entry point for launching an IPython kernel.\n"
     ]
    },
    {
     "data": {
      "text/plain": [
       "(array([-1.,  0.,  1.,  2.,  3.,  4.,  5.,  6.]),\n",
       " [Text(0, 0, ''),\n",
       "  Text(0, 0, ''),\n",
       "  Text(0, 0, ''),\n",
       "  Text(0, 0, ''),\n",
       "  Text(0, 0, ''),\n",
       "  Text(0, 0, ''),\n",
       "  Text(0, 0, ''),\n",
       "  Text(0, 0, '')])"
      ]
     },
     "execution_count": 304,
     "metadata": {},
     "output_type": "execute_result"
    },
    {
     "data": {
      "image/png": "[encoded data removed]",
      "text/plain": [
       "<Figure size 640x480 with 1 Axes>"
      ]
     },
     "metadata": {},
     "output_type": "display_data"
    }
   ],
   "source": [
    "sns.distplot(df['rate'].dropna(),kde=False,color='darkred',bins=40)\n",
    "plt.xticks(rotation=90)"
   ]
  },
  {
   "cell_type": "code",
   "execution_count": 305,
   "metadata": {
    "execution": {
     "iopub.execute_input": "2023-03-31T15:42:37.830876Z",
     "iopub.status.busy": "2023-03-31T15:42:37.830502Z",
     "iopub.status.idle": "2023-03-31T15:42:37.842707Z",
     "shell.execute_reply": "2023-03-31T15:42:37.841078Z",
     "shell.execute_reply.started": "2023-03-31T15:42:37.830840Z"
    }
   },
   "outputs": [
    {
     "name": "stderr",
     "output_type": "stream",
     "text": [
      "/opt/conda/lib/python3.7/site-packages/ipykernel_launcher.py:1: SettingWithCopyWarning: \n",
      "A value is trying to be set on a copy of a slice from a DataFrame\n",
      "\n",
      "See the caveats in the documentation: https://pandas.pydata.org/pandas-docs/stable/user_guide/indexing.html#returning-a-view-versus-a-copy\n",
      "  \"\"\"Entry point for launching an IPython kernel.\n"
     ]
    }
   ],
   "source": [
    "df.rate[df.rate.isnull()]=df.rate.median()"
   ]
  },
  {
   "cell_type": "markdown",
   "metadata": {},
   "source": [
    "Now lets clean the approx_cost(for two people) column."
   ]
  },
  {
   "cell_type": "code",
   "execution_count": 306,
   "metadata": {
    "execution": {
     "iopub.execute_input": "2023-03-31T15:42:37.845026Z",
     "iopub.status.busy": "2023-03-31T15:42:37.844677Z",
     "iopub.status.idle": "2023-03-31T15:42:37.853824Z",
     "shell.execute_reply": "2023-03-31T15:42:37.852688Z",
     "shell.execute_reply.started": "2023-03-31T15:42:37.844991Z"
    }
   },
   "outputs": [],
   "source": [
    "df.rename(columns = {'approx_cost(for two people)':'cost_2'}, inplace = True)"
   ]
  },
  {
   "cell_type": "code",
   "execution_count": 307,
   "metadata": {
    "execution": {
     "iopub.execute_input": "2023-03-31T15:42:37.855344Z",
     "iopub.status.busy": "2023-03-31T15:42:37.855032Z",
     "iopub.status.idle": "2023-03-31T15:42:37.896202Z",
     "shell.execute_reply": "2023-03-31T15:42:37.894858Z",
     "shell.execute_reply.started": "2023-03-31T15:42:37.855314Z"
    }
   },
   "outputs": [],
   "source": [
    "temp_cost=[]\n",
    "for i in df.cost_2:\n",
    "    i=str(i)\n",
    "    r=i.replace(\",\", \"\")\n",
    "    temp_cost.append(r)\n",
    "df.cost_2=temp_cost"
   ]
  },
  {
   "cell_type": "code",
   "execution_count": 308,
   "metadata": {
    "execution": {
     "iopub.execute_input": "2023-03-31T15:42:37.898340Z",
     "iopub.status.busy": "2023-03-31T15:42:37.897976Z",
     "iopub.status.idle": "2023-03-31T15:42:37.917889Z",
     "shell.execute_reply": "2023-03-31T15:42:37.916596Z",
     "shell.execute_reply.started": "2023-03-31T15:42:37.898306Z"
    }
   },
   "outputs": [
    {
     "data": {
      "text/html": [
       "<div>\n",
       "<style scoped>\n",
       "    .dataframe tbody tr th:only-of-type {\n",
       "        vertical-align: middle;\n",
       "    }\n",
       "\n",
       "    .dataframe tbody tr th {\n",
       "        vertical-align: top;\n",
       "    }\n",
       "\n",
       "    .dataframe thead th {\n",
       "        text-align: right;\n",
       "    }\n",
       "</style>\n",
       "<table border=\"1\" class=\"dataframe\">\n",
       "  <thead>\n",
       "    <tr style=\"text-align: right;\">\n",
       "      <th></th>\n",
       "      <th>name</th>\n",
       "      <th>online_order</th>\n",
       "      <th>book_table</th>\n",
       "      <th>rate</th>\n",
       "      <th>votes</th>\n",
       "      <th>location</th>\n",
       "      <th>rest_type</th>\n",
       "      <th>cost_2</th>\n",
       "      <th>listed_in(type)</th>\n",
       "      <th>listed_in(city)</th>\n",
       "    </tr>\n",
       "  </thead>\n",
       "  <tbody>\n",
       "    <tr>\n",
       "      <th>11975</th>\n",
       "      <td>Aishwarya Uphar</td>\n",
       "      <td>No</td>\n",
       "      <td>No</td>\n",
       "      <td>0.0</td>\n",
       "      <td>0</td>\n",
       "      <td>Ulsoor</td>\n",
       "      <td>Quick Bites</td>\n",
       "      <td>150</td>\n",
       "      <td>Delivery</td>\n",
       "      <td>Church Street</td>\n",
       "    </tr>\n",
       "    <tr>\n",
       "      <th>6872</th>\n",
       "      <td>Jhanhavi Restaurant</td>\n",
       "      <td>Yes</td>\n",
       "      <td>No</td>\n",
       "      <td>3.1</td>\n",
       "      <td>105</td>\n",
       "      <td>Marathahalli</td>\n",
       "      <td>Quick Bites</td>\n",
       "      <td>400</td>\n",
       "      <td>Delivery</td>\n",
       "      <td>Brookefield</td>\n",
       "    </tr>\n",
       "    <tr>\n",
       "      <th>38861</th>\n",
       "      <td>Sandhya Sagar</td>\n",
       "      <td>No</td>\n",
       "      <td>No</td>\n",
       "      <td>0.0</td>\n",
       "      <td>0</td>\n",
       "      <td>Shanti Nagar</td>\n",
       "      <td>Quick Bites</td>\n",
       "      <td>300</td>\n",
       "      <td>Dine-out</td>\n",
       "      <td>Lavelle Road</td>\n",
       "    </tr>\n",
       "    <tr>\n",
       "      <th>6097</th>\n",
       "      <td>Tree Tops Bar &amp; Kitchen</td>\n",
       "      <td>No</td>\n",
       "      <td>Yes</td>\n",
       "      <td>4.4</td>\n",
       "      <td>189</td>\n",
       "      <td>Lavelle Road</td>\n",
       "      <td>Casual Dining, Bar</td>\n",
       "      <td>1000</td>\n",
       "      <td>Dine-out</td>\n",
       "      <td>Brigade Road</td>\n",
       "    </tr>\n",
       "    <tr>\n",
       "      <th>40300</th>\n",
       "      <td>Cinnamon</td>\n",
       "      <td>No</td>\n",
       "      <td>No</td>\n",
       "      <td>3.7</td>\n",
       "      <td>28</td>\n",
       "      <td>Seshadripuram</td>\n",
       "      <td>Casual Dining</td>\n",
       "      <td>1000</td>\n",
       "      <td>Dine-out</td>\n",
       "      <td>Malleshwaram</td>\n",
       "    </tr>\n",
       "  </tbody>\n",
       "</table>\n",
       "</div>"
      ],
      "text/plain": [
       "                          name online_order book_table  rate  votes  \\\n",
       "11975          Aishwarya Uphar           No         No   0.0      0   \n",
       "6872       Jhanhavi Restaurant          Yes         No   3.1    105   \n",
       "38861            Sandhya Sagar           No         No   0.0      0   \n",
       "6097   Tree Tops Bar & Kitchen           No        Yes   4.4    189   \n",
       "40300                 Cinnamon           No         No   3.7     28   \n",
       "\n",
       "            location           rest_type cost_2 listed_in(type)  \\\n",
       "11975         Ulsoor         Quick Bites    150        Delivery   \n",
       "6872    Marathahalli         Quick Bites    400        Delivery   \n",
       "38861   Shanti Nagar         Quick Bites    300        Dine-out   \n",
       "6097    Lavelle Road  Casual Dining, Bar   1000        Dine-out   \n",
       "40300  Seshadripuram       Casual Dining   1000        Dine-out   \n",
       "\n",
       "      listed_in(city)  \n",
       "11975   Church Street  \n",
       "6872      Brookefield  \n",
       "38861    Lavelle Road  \n",
       "6097     Brigade Road  \n",
       "40300    Malleshwaram  "
      ]
     },
     "execution_count": 308,
     "metadata": {},
     "output_type": "execute_result"
    }
   ],
   "source": [
    "df.sample(5)"
   ]
  },
  {
   "cell_type": "code",
   "execution_count": 309,
   "metadata": {
    "execution": {
     "iopub.execute_input": "2023-03-31T15:42:37.919931Z",
     "iopub.status.busy": "2023-03-31T15:42:37.919530Z",
     "iopub.status.idle": "2023-03-31T15:42:37.939758Z",
     "shell.execute_reply": "2023-03-31T15:42:37.938429Z",
     "shell.execute_reply.started": "2023-03-31T15:42:37.919893Z"
    }
   },
   "outputs": [],
   "source": [
    "df=df.astype({'cost_2': 'float'})"
   ]
  },
  {
   "cell_type": "code",
   "execution_count": 310,
   "metadata": {
    "execution": {
     "iopub.execute_input": "2023-03-31T15:42:37.941921Z",
     "iopub.status.busy": "2023-03-31T15:42:37.941530Z",
     "iopub.status.idle": "2023-03-31T15:42:37.958827Z",
     "shell.execute_reply": "2023-03-31T15:42:37.957451Z",
     "shell.execute_reply.started": "2023-03-31T15:42:37.941883Z"
    }
   },
   "outputs": [
    {
     "data": {
      "text/plain": [
       "listed_in(type)\n",
       "Buffet                1200.0\n",
       "Cafes                  600.0\n",
       "Delivery               400.0\n",
       "Desserts               350.0\n",
       "Dine-out               400.0\n",
       "Drinks & nightlife    1300.0\n",
       "Pubs and bars         1200.0\n",
       "Name: cost_2, dtype: float64"
      ]
     },
     "execution_count": 310,
     "metadata": {},
     "output_type": "execute_result"
    }
   ],
   "source": [
    "df.groupby(by=[\"listed_in(type)\"])[\"cost_2\"].median()"
   ]
  },
  {
   "cell_type": "markdown",
   "metadata": {},
   "source": [
    "Replacing the null values of cost for 2 column with the respective median of the listed_in(type) column"
   ]
  },
  {
   "cell_type": "code",
   "execution_count": 311,
   "metadata": {
    "execution": {
     "iopub.execute_input": "2023-03-31T15:42:37.960807Z",
     "iopub.status.busy": "2023-03-31T15:42:37.960216Z",
     "iopub.status.idle": "2023-03-31T15:42:38.012005Z",
     "shell.execute_reply": "2023-03-31T15:42:38.011034Z",
     "shell.execute_reply.started": "2023-03-31T15:42:37.960770Z"
    }
   },
   "outputs": [],
   "source": [
    "df.loc[(df.cost_2.isnull()) & (df[\"listed_in(type)\"]==\"0\"),\"cost_2\"]=0\n",
    "df.loc[(df.cost_2.isnull()) & (df[\"listed_in(type)\"]==\"Buffet\"),\"cost_2\"]=1200\n",
    "df.loc[(df.cost_2.isnull()) & (df[\"listed_in(type)\"]==\"Cafes\"),\"cost_2\"]=600\n",
    "df.loc[(df.cost_2.isnull()) & (df[\"listed_in(type)\"]==\"Delivery\"),\"cost_2\"]=400\n",
    "df.loc[(df.cost_2.isnull()) & (df[\"listed_in(type)\"]==\"Desserts\"),\"cost_2\"]=400\n",
    "df.loc[(df.cost_2.isnull()) & (df[\"listed_in(type)\"]==\"Dine-out\"),\"cost_2\"]=500\n",
    "df.loc[(df.cost_2.isnull()) & (df[\"listed_in(type)\"]==\"Drinks & nightlife\"),\"cost_2\"]=1400\n",
    "df.loc[(df.cost_2.isnull()) & (df[\"listed_in(type)\"]==\"Pubs and bars\"),\"cost_2\"]=1200"
   ]
  },
  {
   "cell_type": "code",
   "execution_count": 312,
   "metadata": {
    "execution": {
     "iopub.execute_input": "2023-03-31T15:42:38.013959Z",
     "iopub.status.busy": "2023-03-31T15:42:38.013348Z",
     "iopub.status.idle": "2023-03-31T15:42:38.043589Z",
     "shell.execute_reply": "2023-03-31T15:42:38.042640Z",
     "shell.execute_reply.started": "2023-03-31T15:42:38.013921Z"
    }
   },
   "outputs": [
    {
     "data": {
      "text/plain": [
       "name               0.000000\n",
       "online_order       0.000000\n",
       "book_table         0.000000\n",
       "rate               0.000000\n",
       "votes              0.000000\n",
       "location           0.040606\n",
       "rest_type          0.438927\n",
       "cost_2             0.000000\n",
       "listed_in(type)    0.000000\n",
       "listed_in(city)    0.000000\n",
       "dtype: float64"
      ]
     },
     "execution_count": 312,
     "metadata": {},
     "output_type": "execute_result"
    }
   ],
   "source": [
    "df.isnull().mean()*100"
   ]
  },
  {
   "cell_type": "markdown",
   "metadata": {},
   "source": [
    "Now will clean the column rest_type"
   ]
  },
  {
   "cell_type": "markdown",
   "metadata": {},
   "source": [
    "Replacing the null values with the mode"
   ]
  },
  {
   "cell_type": "code",
   "execution_count": 313,
   "metadata": {
    "execution": {
     "iopub.execute_input": "2023-03-31T15:42:38.051913Z",
     "iopub.status.busy": "2023-03-31T15:42:38.050821Z",
     "iopub.status.idle": "2023-03-31T15:42:38.065263Z",
     "shell.execute_reply": "2023-03-31T15:42:38.063832Z",
     "shell.execute_reply.started": "2023-03-31T15:42:38.051864Z"
    }
   },
   "outputs": [
    {
     "data": {
      "text/plain": [
       "0    Quick Bites\n",
       "dtype: object"
      ]
     },
     "execution_count": 313,
     "metadata": {},
     "output_type": "execute_result"
    }
   ],
   "source": [
    "df.rest_type.mode()"
   ]
  },
  {
   "cell_type": "code",
   "execution_count": 314,
   "metadata": {
    "execution": {
     "iopub.execute_input": "2023-03-31T15:42:38.069004Z",
     "iopub.status.busy": "2023-03-31T15:42:38.067632Z",
     "iopub.status.idle": "2023-03-31T15:42:38.081048Z",
     "shell.execute_reply": "2023-03-31T15:42:38.079662Z",
     "shell.execute_reply.started": "2023-03-31T15:42:38.068896Z"
    }
   },
   "outputs": [],
   "source": [
    "df.loc[df.rest_type.isnull(),\"rest_type\"]=\"Quick Bites\""
   ]
  },
  {
   "cell_type": "markdown",
   "metadata": {},
   "source": [
    "Cleaning location column"
   ]
  },
  {
   "cell_type": "code",
   "execution_count": 315,
   "metadata": {
    "execution": {
     "iopub.execute_input": "2023-03-31T15:42:38.083583Z",
     "iopub.status.busy": "2023-03-31T15:42:38.082779Z",
     "iopub.status.idle": "2023-03-31T15:42:38.130054Z",
     "shell.execute_reply": "2023-03-31T15:42:38.128450Z",
     "shell.execute_reply.started": "2023-03-31T15:42:38.083526Z"
    }
   },
   "outputs": [
    {
     "data": {
      "text/html": [
       "<div>\n",
       "<style scoped>\n",
       "    .dataframe tbody tr th:only-of-type {\n",
       "        vertical-align: middle;\n",
       "    }\n",
       "\n",
       "    .dataframe tbody tr th {\n",
       "        vertical-align: top;\n",
       "    }\n",
       "\n",
       "    .dataframe thead th {\n",
       "        text-align: right;\n",
       "    }\n",
       "</style>\n",
       "<table border=\"1\" class=\"dataframe\">\n",
       "  <thead>\n",
       "    <tr style=\"text-align: right;\">\n",
       "      <th></th>\n",
       "      <th>name</th>\n",
       "      <th>online_order</th>\n",
       "      <th>book_table</th>\n",
       "      <th>rate</th>\n",
       "      <th>votes</th>\n",
       "      <th>location</th>\n",
       "      <th>rest_type</th>\n",
       "      <th>cost_2</th>\n",
       "      <th>listed_in(type)</th>\n",
       "      <th>listed_in(city)</th>\n",
       "    </tr>\n",
       "  </thead>\n",
       "  <tbody>\n",
       "    <tr>\n",
       "      <th>1662</th>\n",
       "      <td>Papa Khan Rasoi</td>\n",
       "      <td>No</td>\n",
       "      <td>No</td>\n",
       "      <td>0.0</td>\n",
       "      <td>0</td>\n",
       "      <td>NaN</td>\n",
       "      <td>Quick Bites</td>\n",
       "      <td>400.0</td>\n",
       "      <td>Delivery</td>\n",
       "      <td>Bannerghatta Road</td>\n",
       "    </tr>\n",
       "    <tr>\n",
       "      <th>9874</th>\n",
       "      <td>Papa Khan Rasoi</td>\n",
       "      <td>No</td>\n",
       "      <td>No</td>\n",
       "      <td>0.0</td>\n",
       "      <td>0</td>\n",
       "      <td>NaN</td>\n",
       "      <td>Quick Bites</td>\n",
       "      <td>400.0</td>\n",
       "      <td>Delivery</td>\n",
       "      <td>BTM</td>\n",
       "    </tr>\n",
       "    <tr>\n",
       "      <th>13693</th>\n",
       "      <td>Mohabbat Desi Restaurant</td>\n",
       "      <td>No</td>\n",
       "      <td>No</td>\n",
       "      <td>0.0</td>\n",
       "      <td>0</td>\n",
       "      <td>NaN</td>\n",
       "      <td>Quick Bites</td>\n",
       "      <td>400.0</td>\n",
       "      <td>Delivery</td>\n",
       "      <td>Electronic City</td>\n",
       "    </tr>\n",
       "    <tr>\n",
       "      <th>16351</th>\n",
       "      <td>Desi Chatkara</td>\n",
       "      <td>No</td>\n",
       "      <td>No</td>\n",
       "      <td>0.0</td>\n",
       "      <td>0</td>\n",
       "      <td>NaN</td>\n",
       "      <td>Quick Bites</td>\n",
       "      <td>400.0</td>\n",
       "      <td>Delivery</td>\n",
       "      <td>HSR</td>\n",
       "    </tr>\n",
       "    <tr>\n",
       "      <th>26432</th>\n",
       "      <td>New Taj Biryani Centre</td>\n",
       "      <td>No</td>\n",
       "      <td>No</td>\n",
       "      <td>0.0</td>\n",
       "      <td>0</td>\n",
       "      <td>NaN</td>\n",
       "      <td>Quick Bites</td>\n",
       "      <td>500.0</td>\n",
       "      <td>Dine-out</td>\n",
       "      <td>Kammanahalli</td>\n",
       "    </tr>\n",
       "    <tr>\n",
       "      <th>26519</th>\n",
       "      <td>AB's - Absolute Barbecues</td>\n",
       "      <td>No</td>\n",
       "      <td>No</td>\n",
       "      <td>0.0</td>\n",
       "      <td>0</td>\n",
       "      <td>NaN</td>\n",
       "      <td>Quick Bites</td>\n",
       "      <td>1200.0</td>\n",
       "      <td>Buffet</td>\n",
       "      <td>Koramangala 4th Block</td>\n",
       "    </tr>\n",
       "    <tr>\n",
       "      <th>27672</th>\n",
       "      <td>Manchow</td>\n",
       "      <td>No</td>\n",
       "      <td>No</td>\n",
       "      <td>0.0</td>\n",
       "      <td>0</td>\n",
       "      <td>NaN</td>\n",
       "      <td>Quick Bites</td>\n",
       "      <td>400.0</td>\n",
       "      <td>Delivery</td>\n",
       "      <td>Koramangala 4th Block</td>\n",
       "    </tr>\n",
       "    <tr>\n",
       "      <th>28611</th>\n",
       "      <td>Manchow</td>\n",
       "      <td>No</td>\n",
       "      <td>No</td>\n",
       "      <td>0.0</td>\n",
       "      <td>0</td>\n",
       "      <td>NaN</td>\n",
       "      <td>Quick Bites</td>\n",
       "      <td>500.0</td>\n",
       "      <td>Dine-out</td>\n",
       "      <td>Koramangala 4th Block</td>\n",
       "    </tr>\n",
       "    <tr>\n",
       "      <th>29298</th>\n",
       "      <td>AB's - Absolute Barbecues</td>\n",
       "      <td>No</td>\n",
       "      <td>No</td>\n",
       "      <td>0.0</td>\n",
       "      <td>0</td>\n",
       "      <td>NaN</td>\n",
       "      <td>Quick Bites</td>\n",
       "      <td>1200.0</td>\n",
       "      <td>Buffet</td>\n",
       "      <td>Koramangala 5th Block</td>\n",
       "    </tr>\n",
       "    <tr>\n",
       "      <th>30604</th>\n",
       "      <td>Manchow</td>\n",
       "      <td>No</td>\n",
       "      <td>No</td>\n",
       "      <td>0.0</td>\n",
       "      <td>0</td>\n",
       "      <td>NaN</td>\n",
       "      <td>Quick Bites</td>\n",
       "      <td>400.0</td>\n",
       "      <td>Delivery</td>\n",
       "      <td>Koramangala 5th Block</td>\n",
       "    </tr>\n",
       "    <tr>\n",
       "      <th>31400</th>\n",
       "      <td>Manchow</td>\n",
       "      <td>No</td>\n",
       "      <td>No</td>\n",
       "      <td>0.0</td>\n",
       "      <td>0</td>\n",
       "      <td>NaN</td>\n",
       "      <td>Quick Bites</td>\n",
       "      <td>500.0</td>\n",
       "      <td>Dine-out</td>\n",
       "      <td>Koramangala 5th Block</td>\n",
       "    </tr>\n",
       "    <tr>\n",
       "      <th>32131</th>\n",
       "      <td>AB's - Absolute Barbecues</td>\n",
       "      <td>No</td>\n",
       "      <td>No</td>\n",
       "      <td>0.0</td>\n",
       "      <td>0</td>\n",
       "      <td>NaN</td>\n",
       "      <td>Quick Bites</td>\n",
       "      <td>1200.0</td>\n",
       "      <td>Buffet</td>\n",
       "      <td>Koramangala 6th Block</td>\n",
       "    </tr>\n",
       "    <tr>\n",
       "      <th>33457</th>\n",
       "      <td>La Lunch Box</td>\n",
       "      <td>No</td>\n",
       "      <td>No</td>\n",
       "      <td>0.0</td>\n",
       "      <td>0</td>\n",
       "      <td>NaN</td>\n",
       "      <td>Quick Bites</td>\n",
       "      <td>400.0</td>\n",
       "      <td>Delivery</td>\n",
       "      <td>Koramangala 6th Block</td>\n",
       "    </tr>\n",
       "    <tr>\n",
       "      <th>34755</th>\n",
       "      <td>AB's - Absolute Barbecues</td>\n",
       "      <td>No</td>\n",
       "      <td>No</td>\n",
       "      <td>0.0</td>\n",
       "      <td>0</td>\n",
       "      <td>NaN</td>\n",
       "      <td>Quick Bites</td>\n",
       "      <td>1200.0</td>\n",
       "      <td>Buffet</td>\n",
       "      <td>Koramangala 7th Block</td>\n",
       "    </tr>\n",
       "    <tr>\n",
       "      <th>40354</th>\n",
       "      <td>The Happy Vegetarian</td>\n",
       "      <td>No</td>\n",
       "      <td>No</td>\n",
       "      <td>0.0</td>\n",
       "      <td>0</td>\n",
       "      <td>NaN</td>\n",
       "      <td>Quick Bites</td>\n",
       "      <td>500.0</td>\n",
       "      <td>Dine-out</td>\n",
       "      <td>Malleshwaram</td>\n",
       "    </tr>\n",
       "    <tr>\n",
       "      <th>40556</th>\n",
       "      <td>Risalo Restaurant</td>\n",
       "      <td>No</td>\n",
       "      <td>No</td>\n",
       "      <td>0.0</td>\n",
       "      <td>0</td>\n",
       "      <td>NaN</td>\n",
       "      <td>Quick Bites</td>\n",
       "      <td>600.0</td>\n",
       "      <td>Cafes</td>\n",
       "      <td>Marathahalli</td>\n",
       "    </tr>\n",
       "    <tr>\n",
       "      <th>41980</th>\n",
       "      <td>Risalo Restaurant</td>\n",
       "      <td>No</td>\n",
       "      <td>No</td>\n",
       "      <td>0.0</td>\n",
       "      <td>0</td>\n",
       "      <td>NaN</td>\n",
       "      <td>Quick Bites</td>\n",
       "      <td>500.0</td>\n",
       "      <td>Dine-out</td>\n",
       "      <td>Marathahalli</td>\n",
       "    </tr>\n",
       "    <tr>\n",
       "      <th>46586</th>\n",
       "      <td>The Cinema</td>\n",
       "      <td>No</td>\n",
       "      <td>No</td>\n",
       "      <td>0.0</td>\n",
       "      <td>0</td>\n",
       "      <td>NaN</td>\n",
       "      <td>Quick Bites</td>\n",
       "      <td>400.0</td>\n",
       "      <td>Delivery</td>\n",
       "      <td>Rajajinagar</td>\n",
       "    </tr>\n",
       "    <tr>\n",
       "      <th>46609</th>\n",
       "      <td>Grill Biryanis</td>\n",
       "      <td>No</td>\n",
       "      <td>No</td>\n",
       "      <td>0.0</td>\n",
       "      <td>0</td>\n",
       "      <td>NaN</td>\n",
       "      <td>Quick Bites</td>\n",
       "      <td>400.0</td>\n",
       "      <td>Delivery</td>\n",
       "      <td>Rajajinagar</td>\n",
       "    </tr>\n",
       "    <tr>\n",
       "      <th>46752</th>\n",
       "      <td>The Happy Vegetarian</td>\n",
       "      <td>No</td>\n",
       "      <td>No</td>\n",
       "      <td>0.0</td>\n",
       "      <td>0</td>\n",
       "      <td>NaN</td>\n",
       "      <td>Quick Bites</td>\n",
       "      <td>500.0</td>\n",
       "      <td>Dine-out</td>\n",
       "      <td>Rajajinagar</td>\n",
       "    </tr>\n",
       "    <tr>\n",
       "      <th>47134</th>\n",
       "      <td>The Cinema</td>\n",
       "      <td>No</td>\n",
       "      <td>No</td>\n",
       "      <td>0.0</td>\n",
       "      <td>0</td>\n",
       "      <td>NaN</td>\n",
       "      <td>Quick Bites</td>\n",
       "      <td>500.0</td>\n",
       "      <td>Dine-out</td>\n",
       "      <td>Rajajinagar</td>\n",
       "    </tr>\n",
       "  </tbody>\n",
       "</table>\n",
       "</div>"
      ],
      "text/plain": [
       "                            name online_order book_table  rate  votes  \\\n",
       "1662             Papa Khan Rasoi           No         No   0.0      0   \n",
       "9874             Papa Khan Rasoi           No         No   0.0      0   \n",
       "13693   Mohabbat Desi Restaurant           No         No   0.0      0   \n",
       "16351              Desi Chatkara           No         No   0.0      0   \n",
       "26432     New Taj Biryani Centre           No         No   0.0      0   \n",
       "26519  AB's - Absolute Barbecues           No         No   0.0      0   \n",
       "27672                    Manchow           No         No   0.0      0   \n",
       "28611                    Manchow           No         No   0.0      0   \n",
       "29298  AB's - Absolute Barbecues           No         No   0.0      0   \n",
       "30604                    Manchow           No         No   0.0      0   \n",
       "31400                    Manchow           No         No   0.0      0   \n",
       "32131  AB's - Absolute Barbecues           No         No   0.0      0   \n",
       "33457               La Lunch Box           No         No   0.0      0   \n",
       "34755  AB's - Absolute Barbecues           No         No   0.0      0   \n",
       "40354       The Happy Vegetarian           No         No   0.0      0   \n",
       "40556          Risalo Restaurant           No         No   0.0      0   \n",
       "41980          Risalo Restaurant           No         No   0.0      0   \n",
       "46586                 The Cinema           No         No   0.0      0   \n",
       "46609             Grill Biryanis           No         No   0.0      0   \n",
       "46752       The Happy Vegetarian           No         No   0.0      0   \n",
       "47134                 The Cinema           No         No   0.0      0   \n",
       "\n",
       "      location    rest_type  cost_2 listed_in(type)        listed_in(city)  \n",
       "1662       NaN  Quick Bites   400.0        Delivery      Bannerghatta Road  \n",
       "9874       NaN  Quick Bites   400.0        Delivery                    BTM  \n",
       "13693      NaN  Quick Bites   400.0        Delivery        Electronic City  \n",
       "16351      NaN  Quick Bites   400.0        Delivery                    HSR  \n",
       "26432      NaN  Quick Bites   500.0        Dine-out           Kammanahalli  \n",
       "26519      NaN  Quick Bites  1200.0          Buffet  Koramangala 4th Block  \n",
       "27672      NaN  Quick Bites   400.0        Delivery  Koramangala 4th Block  \n",
       "28611      NaN  Quick Bites   500.0        Dine-out  Koramangala 4th Block  \n",
       "29298      NaN  Quick Bites  1200.0          Buffet  Koramangala 5th Block  \n",
       "30604      NaN  Quick Bites   400.0        Delivery  Koramangala 5th Block  \n",
       "31400      NaN  Quick Bites   500.0        Dine-out  Koramangala 5th Block  \n",
       "32131      NaN  Quick Bites  1200.0          Buffet  Koramangala 6th Block  \n",
       "33457      NaN  Quick Bites   400.0        Delivery  Koramangala 6th Block  \n",
       "34755      NaN  Quick Bites  1200.0          Buffet  Koramangala 7th Block  \n",
       "40354      NaN  Quick Bites   500.0        Dine-out           Malleshwaram  \n",
       "40556      NaN  Quick Bites   600.0           Cafes           Marathahalli  \n",
       "41980      NaN  Quick Bites   500.0        Dine-out           Marathahalli  \n",
       "46586      NaN  Quick Bites   400.0        Delivery            Rajajinagar  \n",
       "46609      NaN  Quick Bites   400.0        Delivery            Rajajinagar  \n",
       "46752      NaN  Quick Bites   500.0        Dine-out            Rajajinagar  \n",
       "47134      NaN  Quick Bites   500.0        Dine-out            Rajajinagar  "
      ]
     },
     "execution_count": 315,
     "metadata": {},
     "output_type": "execute_result"
    }
   ],
   "source": [
    "df.loc[df.location.isnull()]"
   ]
  },
  {
   "cell_type": "markdown",
   "metadata": {},
   "source": [
    "Replacing all the null values of location column with corresponding listed_in(city) value"
   ]
  },
  {
   "cell_type": "code",
   "execution_count": 316,
   "metadata": {
    "execution": {
     "iopub.execute_input": "2023-03-31T15:42:38.132434Z",
     "iopub.status.busy": "2023-03-31T15:42:38.131817Z",
     "iopub.status.idle": "2023-03-31T15:42:38.153652Z",
     "shell.execute_reply": "2023-03-31T15:42:38.152529Z",
     "shell.execute_reply.started": "2023-03-31T15:42:38.132369Z"
    }
   },
   "outputs": [],
   "source": [
    "temp=df.loc[df.location.isnull(),\"listed_in(city)\"]\n",
    "df.loc[df.location.isnull(),\"location\"]=temp"
   ]
  },
  {
   "cell_type": "code",
   "execution_count": 317,
   "metadata": {
    "execution": {
     "iopub.execute_input": "2023-03-31T15:42:38.157446Z",
     "iopub.status.busy": "2023-03-31T15:42:38.156288Z",
     "iopub.status.idle": "2023-03-31T15:42:38.187330Z",
     "shell.execute_reply": "2023-03-31T15:42:38.185774Z",
     "shell.execute_reply.started": "2023-03-31T15:42:38.157355Z"
    }
   },
   "outputs": [
    {
     "data": {
      "text/plain": [
       "name               0.0\n",
       "online_order       0.0\n",
       "book_table         0.0\n",
       "rate               0.0\n",
       "votes              0.0\n",
       "location           0.0\n",
       "rest_type          0.0\n",
       "cost_2             0.0\n",
       "listed_in(type)    0.0\n",
       "listed_in(city)    0.0\n",
       "dtype: float64"
      ]
     },
     "execution_count": 317,
     "metadata": {},
     "output_type": "execute_result"
    }
   ],
   "source": [
    "df.isnull().mean()*100"
   ]
  },
  {
   "cell_type": "markdown",
   "metadata": {},
   "source": [
    "All null values are now filled with proper values."
   ]
  },
  {
   "cell_type": "markdown",
   "metadata": {},
   "source": [
    "# EDA"
   ]
  },
  {
   "cell_type": "code",
   "execution_count": 333,
   "metadata": {
    "execution": {
     "iopub.execute_input": "2023-03-31T15:43:21.368889Z",
     "iopub.status.busy": "2023-03-31T15:43:21.368428Z",
     "iopub.status.idle": "2023-03-31T15:43:21.444464Z",
     "shell.execute_reply": "2023-03-31T15:43:21.441996Z",
     "shell.execute_reply.started": "2023-03-31T15:43:21.368848Z"
    }
   },
   "outputs": [],
   "source": [
    "df=df.drop_duplicates()"
   ]
  },
  {
   "cell_type": "code",
   "execution_count": 319,
   "metadata": {
    "execution": {
     "iopub.execute_input": "2023-03-31T15:42:38.199362Z",
     "iopub.status.busy": "2023-03-31T15:42:38.198877Z",
     "iopub.status.idle": "2023-03-31T15:42:38.237291Z",
     "shell.execute_reply": "2023-03-31T15:42:38.235789Z",
     "shell.execute_reply.started": "2023-03-31T15:42:38.199301Z"
    }
   },
   "outputs": [
    {
     "data": {
      "text/html": [
       "<div>\n",
       "<style scoped>\n",
       "    .dataframe tbody tr th:only-of-type {\n",
       "        vertical-align: middle;\n",
       "    }\n",
       "\n",
       "    .dataframe tbody tr th {\n",
       "        vertical-align: top;\n",
       "    }\n",
       "\n",
       "    .dataframe thead th {\n",
       "        text-align: right;\n",
       "    }\n",
       "</style>\n",
       "<table border=\"1\" class=\"dataframe\">\n",
       "  <thead>\n",
       "    <tr style=\"text-align: right;\">\n",
       "      <th></th>\n",
       "      <th>rate</th>\n",
       "      <th>votes</th>\n",
       "      <th>cost_2</th>\n",
       "    </tr>\n",
       "  </thead>\n",
       "  <tbody>\n",
       "    <tr>\n",
       "      <th>count</th>\n",
       "      <td>51717.000000</td>\n",
       "      <td>51717.000000</td>\n",
       "      <td>51717.000000</td>\n",
       "    </tr>\n",
       "    <tr>\n",
       "      <th>mean</th>\n",
       "      <td>2.984272</td>\n",
       "      <td>283.697527</td>\n",
       "      <td>555.194133</td>\n",
       "    </tr>\n",
       "    <tr>\n",
       "      <th>std</th>\n",
       "      <td>1.514376</td>\n",
       "      <td>803.838853</td>\n",
       "      <td>437.826629</td>\n",
       "    </tr>\n",
       "    <tr>\n",
       "      <th>min</th>\n",
       "      <td>0.000000</td>\n",
       "      <td>0.000000</td>\n",
       "      <td>40.000000</td>\n",
       "    </tr>\n",
       "    <tr>\n",
       "      <th>25%</th>\n",
       "      <td>3.000000</td>\n",
       "      <td>7.000000</td>\n",
       "      <td>300.000000</td>\n",
       "    </tr>\n",
       "    <tr>\n",
       "      <th>50%</th>\n",
       "      <td>3.600000</td>\n",
       "      <td>41.000000</td>\n",
       "      <td>400.000000</td>\n",
       "    </tr>\n",
       "    <tr>\n",
       "      <th>75%</th>\n",
       "      <td>3.900000</td>\n",
       "      <td>198.000000</td>\n",
       "      <td>650.000000</td>\n",
       "    </tr>\n",
       "    <tr>\n",
       "      <th>max</th>\n",
       "      <td>4.900000</td>\n",
       "      <td>16832.000000</td>\n",
       "      <td>6000.000000</td>\n",
       "    </tr>\n",
       "  </tbody>\n",
       "</table>\n",
       "</div>"
      ],
      "text/plain": [
       "               rate         votes        cost_2\n",
       "count  51717.000000  51717.000000  51717.000000\n",
       "mean       2.984272    283.697527    555.194133\n",
       "std        1.514376    803.838853    437.826629\n",
       "min        0.000000      0.000000     40.000000\n",
       "25%        3.000000      7.000000    300.000000\n",
       "50%        3.600000     41.000000    400.000000\n",
       "75%        3.900000    198.000000    650.000000\n",
       "max        4.900000  16832.000000   6000.000000"
      ]
     },
     "execution_count": 319,
     "metadata": {},
     "output_type": "execute_result"
    }
   ],
   "source": [
    "df.describe()"
   ]
  },
  {
   "cell_type": "code",
   "execution_count": 320,
   "metadata": {
    "execution": {
     "iopub.execute_input": "2023-03-31T15:42:38.239366Z",
     "iopub.status.busy": "2023-03-31T15:42:38.238988Z",
     "iopub.status.idle": "2023-03-31T15:42:38.262485Z",
     "shell.execute_reply": "2023-03-31T15:42:38.261474Z",
     "shell.execute_reply.started": "2023-03-31T15:42:38.239327Z"
    }
   },
   "outputs": [
    {
     "data": {
      "text/html": [
       "<div>\n",
       "<style scoped>\n",
       "    .dataframe tbody tr th:only-of-type {\n",
       "        vertical-align: middle;\n",
       "    }\n",
       "\n",
       "    .dataframe tbody tr th {\n",
       "        vertical-align: top;\n",
       "    }\n",
       "\n",
       "    .dataframe thead th {\n",
       "        text-align: right;\n",
       "    }\n",
       "</style>\n",
       "<table border=\"1\" class=\"dataframe\">\n",
       "  <thead>\n",
       "    <tr style=\"text-align: right;\">\n",
       "      <th></th>\n",
       "      <th>name</th>\n",
       "      <th>online_order</th>\n",
       "      <th>book_table</th>\n",
       "      <th>rate</th>\n",
       "      <th>votes</th>\n",
       "      <th>location</th>\n",
       "      <th>rest_type</th>\n",
       "      <th>cost_2</th>\n",
       "      <th>listed_in(type)</th>\n",
       "      <th>listed_in(city)</th>\n",
       "    </tr>\n",
       "  </thead>\n",
       "  <tbody>\n",
       "    <tr>\n",
       "      <th>1261</th>\n",
       "      <td>Vinaya Coffee Moments</td>\n",
       "      <td>Yes</td>\n",
       "      <td>No</td>\n",
       "      <td>3.7</td>\n",
       "      <td>46</td>\n",
       "      <td>JP Nagar</td>\n",
       "      <td>Cafe</td>\n",
       "      <td>450.0</td>\n",
       "      <td>Delivery</td>\n",
       "      <td>Bannerghatta Road</td>\n",
       "    </tr>\n",
       "    <tr>\n",
       "      <th>23988</th>\n",
       "      <td>The London Shakes</td>\n",
       "      <td>Yes</td>\n",
       "      <td>No</td>\n",
       "      <td>3.1</td>\n",
       "      <td>25</td>\n",
       "      <td>Banaswadi</td>\n",
       "      <td>Beverage Shop</td>\n",
       "      <td>400.0</td>\n",
       "      <td>Delivery</td>\n",
       "      <td>Kalyan Nagar</td>\n",
       "    </tr>\n",
       "    <tr>\n",
       "      <th>24997</th>\n",
       "      <td>Sufi Restaurant &amp; Cafe</td>\n",
       "      <td>Yes</td>\n",
       "      <td>No</td>\n",
       "      <td>3.7</td>\n",
       "      <td>105</td>\n",
       "      <td>Banaswadi</td>\n",
       "      <td>Casual Dining</td>\n",
       "      <td>800.0</td>\n",
       "      <td>Dine-out</td>\n",
       "      <td>Kalyan Nagar</td>\n",
       "    </tr>\n",
       "    <tr>\n",
       "      <th>37670</th>\n",
       "      <td>Olive Bar And Kitchen</td>\n",
       "      <td>No</td>\n",
       "      <td>Yes</td>\n",
       "      <td>4.6</td>\n",
       "      <td>2211</td>\n",
       "      <td>Richmond Road</td>\n",
       "      <td>Casual Dining</td>\n",
       "      <td>1800.0</td>\n",
       "      <td>Buffet</td>\n",
       "      <td>Lavelle Road</td>\n",
       "    </tr>\n",
       "    <tr>\n",
       "      <th>44985</th>\n",
       "      <td>Gowdru Hotel</td>\n",
       "      <td>Yes</td>\n",
       "      <td>No</td>\n",
       "      <td>3.9</td>\n",
       "      <td>203</td>\n",
       "      <td>Indiranagar</td>\n",
       "      <td>Quick Bites</td>\n",
       "      <td>400.0</td>\n",
       "      <td>Delivery</td>\n",
       "      <td>Old Airport Road</td>\n",
       "    </tr>\n",
       "    <tr>\n",
       "      <th>26822</th>\n",
       "      <td>Hyderabadi Biryani Hub</td>\n",
       "      <td>Yes</td>\n",
       "      <td>No</td>\n",
       "      <td>3.6</td>\n",
       "      <td>218</td>\n",
       "      <td>BTM</td>\n",
       "      <td>Casual Dining</td>\n",
       "      <td>600.0</td>\n",
       "      <td>Delivery</td>\n",
       "      <td>Koramangala 4th Block</td>\n",
       "    </tr>\n",
       "    <tr>\n",
       "      <th>48391</th>\n",
       "      <td>Monarch</td>\n",
       "      <td>No</td>\n",
       "      <td>No</td>\n",
       "      <td>3.5</td>\n",
       "      <td>10</td>\n",
       "      <td>Brigade Road</td>\n",
       "      <td>Casual Dining</td>\n",
       "      <td>700.0</td>\n",
       "      <td>Dine-out</td>\n",
       "      <td>Residency Road</td>\n",
       "    </tr>\n",
       "    <tr>\n",
       "      <th>49124</th>\n",
       "      <td>Lassi Shop</td>\n",
       "      <td>Yes</td>\n",
       "      <td>No</td>\n",
       "      <td>3.4</td>\n",
       "      <td>10</td>\n",
       "      <td>Sarjapur Road</td>\n",
       "      <td>Beverage Shop</td>\n",
       "      <td>200.0</td>\n",
       "      <td>Delivery</td>\n",
       "      <td>Sarjapur Road</td>\n",
       "    </tr>\n",
       "    <tr>\n",
       "      <th>11402</th>\n",
       "      <td>Karnataka Biriyani Centre</td>\n",
       "      <td>No</td>\n",
       "      <td>No</td>\n",
       "      <td>0.0</td>\n",
       "      <td>0</td>\n",
       "      <td>Jayanagar</td>\n",
       "      <td>Quick Bites</td>\n",
       "      <td>200.0</td>\n",
       "      <td>Dine-out</td>\n",
       "      <td>BTM</td>\n",
       "    </tr>\n",
       "    <tr>\n",
       "      <th>11221</th>\n",
       "      <td>Juice Fresco &amp; Pizza</td>\n",
       "      <td>No</td>\n",
       "      <td>No</td>\n",
       "      <td>3.4</td>\n",
       "      <td>12</td>\n",
       "      <td>JP Nagar</td>\n",
       "      <td>Quick Bites, Beverage Shop</td>\n",
       "      <td>300.0</td>\n",
       "      <td>Dine-out</td>\n",
       "      <td>BTM</td>\n",
       "    </tr>\n",
       "  </tbody>\n",
       "</table>\n",
       "</div>"
      ],
      "text/plain": [
       "                            name online_order book_table  rate  votes  \\\n",
       "1261       Vinaya Coffee Moments          Yes         No   3.7     46   \n",
       "23988          The London Shakes          Yes         No   3.1     25   \n",
       "24997     Sufi Restaurant & Cafe          Yes         No   3.7    105   \n",
       "37670      Olive Bar And Kitchen           No        Yes   4.6   2211   \n",
       "44985               Gowdru Hotel          Yes         No   3.9    203   \n",
       "26822     Hyderabadi Biryani Hub          Yes         No   3.6    218   \n",
       "48391                    Monarch           No         No   3.5     10   \n",
       "49124                 Lassi Shop          Yes         No   3.4     10   \n",
       "11402  Karnataka Biriyani Centre           No         No   0.0      0   \n",
       "11221       Juice Fresco & Pizza           No         No   3.4     12   \n",
       "\n",
       "            location                   rest_type  cost_2 listed_in(type)  \\\n",
       "1261        JP Nagar                        Cafe   450.0        Delivery   \n",
       "23988      Banaswadi               Beverage Shop   400.0        Delivery   \n",
       "24997      Banaswadi               Casual Dining   800.0        Dine-out   \n",
       "37670  Richmond Road               Casual Dining  1800.0          Buffet   \n",
       "44985    Indiranagar                 Quick Bites   400.0        Delivery   \n",
       "26822            BTM               Casual Dining   600.0        Delivery   \n",
       "48391   Brigade Road               Casual Dining   700.0        Dine-out   \n",
       "49124  Sarjapur Road               Beverage Shop   200.0        Delivery   \n",
       "11402      Jayanagar                 Quick Bites   200.0        Dine-out   \n",
       "11221       JP Nagar  Quick Bites, Beverage Shop   300.0        Dine-out   \n",
       "\n",
       "             listed_in(city)  \n",
       "1261       Bannerghatta Road  \n",
       "23988           Kalyan Nagar  \n",
       "24997           Kalyan Nagar  \n",
       "37670           Lavelle Road  \n",
       "44985       Old Airport Road  \n",
       "26822  Koramangala 4th Block  \n",
       "48391         Residency Road  \n",
       "49124          Sarjapur Road  \n",
       "11402                    BTM  \n",
       "11221                    BTM  "
      ]
     },
     "execution_count": 320,
     "metadata": {},
     "output_type": "execute_result"
    }
   ],
   "source": [
    "df.sample(10)"
   ]
  },
  {
   "cell_type": "code",
   "execution_count": 321,
   "metadata": {
    "execution": {
     "iopub.execute_input": "2023-03-31T15:42:38.264327Z",
     "iopub.status.busy": "2023-03-31T15:42:38.263955Z",
     "iopub.status.idle": "2023-03-31T15:42:38.310302Z",
     "shell.execute_reply": "2023-03-31T15:42:38.308898Z",
     "shell.execute_reply.started": "2023-03-31T15:42:38.264290Z"
    }
   },
   "outputs": [],
   "source": [
    "temp_rate_range=[]\n",
    "for i in df.rate:\n",
    "    if i==0.0:\n",
    "        temp_rate_range.append(\"No rating\")\n",
    "    elif i>0.0 and i<2.0:\n",
    "        temp_rate_range.append(\"<2\")\n",
    "    elif i>=2.0 and i<=3.0:\n",
    "        temp_rate_range.append(\"2 - 3\")\n",
    "    elif i>3.0 and i<4.0:\n",
    "        temp_rate_range.append(\"3.1 - 3.9\")\n",
    "    elif i>=4.0 and i<=4.5:\n",
    "        temp_rate_range.append(\"4.0 - 4.5\")\n",
    "    elif i>4.5 and i<=5:\n",
    "        temp_rate_range.append(\"4.6 - 5\")\n",
    "df[\"rating_range\"]=temp_rate_range"
   ]
  },
  {
   "cell_type": "code",
   "execution_count": 343,
   "metadata": {
    "execution": {
     "iopub.execute_input": "2023-03-31T15:51:06.228026Z",
     "iopub.status.busy": "2023-03-31T15:51:06.227516Z",
     "iopub.status.idle": "2023-03-31T15:51:06.265784Z",
     "shell.execute_reply": "2023-03-31T15:51:06.264635Z",
     "shell.execute_reply.started": "2023-03-31T15:51:06.227977Z"
    }
   },
   "outputs": [],
   "source": [
    "temp_cost_range=[]\n",
    "for i in df.cost_2:\n",
    "    if i<=100:\n",
    "        temp_cost_range.append(\"0-100\")\n",
    "    elif i>100 and i<500:\n",
    "        temp_cost_range.append(\"100-500\")\n",
    "    elif i>=500 and i<1000:\n",
    "        temp_cost_range.append(\"500 - 1000\")\n",
    "    elif i>=1000 and i<2000:\n",
    "        temp_cost_range.append(\"1000 - 2000\")\n",
    "    elif i>=2000 and i<=3000:\n",
    "        temp_cost_range.append(\"2000 - 3000\")\n",
    "    elif i>3000:\n",
    "        temp_cost_range.append(\">3000\")\n",
    "df[\"cost_range\"]=temp_cost_range"
   ]
  },
  {
   "cell_type": "code",
   "execution_count": 323,
   "metadata": {
    "execution": {
     "iopub.execute_input": "2023-03-31T15:42:38.352113Z",
     "iopub.status.busy": "2023-03-31T15:42:38.351006Z",
     "iopub.status.idle": "2023-03-31T15:42:38.387561Z",
     "shell.execute_reply": "2023-03-31T15:42:38.386097Z",
     "shell.execute_reply.started": "2023-03-31T15:42:38.352057Z"
    }
   },
   "outputs": [
    {
     "data": {
      "text/html": [
       "<div>\n",
       "<style scoped>\n",
       "    .dataframe tbody tr th:only-of-type {\n",
       "        vertical-align: middle;\n",
       "    }\n",
       "\n",
       "    .dataframe tbody tr th {\n",
       "        vertical-align: top;\n",
       "    }\n",
       "\n",
       "    .dataframe thead th {\n",
       "        text-align: right;\n",
       "    }\n",
       "</style>\n",
       "<table border=\"1\" class=\"dataframe\">\n",
       "  <thead>\n",
       "    <tr style=\"text-align: right;\">\n",
       "      <th></th>\n",
       "      <th>name</th>\n",
       "      <th>online_order</th>\n",
       "      <th>book_table</th>\n",
       "      <th>rate</th>\n",
       "      <th>votes</th>\n",
       "      <th>location</th>\n",
       "      <th>rest_type</th>\n",
       "      <th>cost_2</th>\n",
       "      <th>listed_in(type)</th>\n",
       "      <th>listed_in(city)</th>\n",
       "      <th>rating_range</th>\n",
       "      <th>cost_range</th>\n",
       "    </tr>\n",
       "  </thead>\n",
       "  <tbody>\n",
       "    <tr>\n",
       "      <th>19538</th>\n",
       "      <td>Chinese Square</td>\n",
       "      <td>Yes</td>\n",
       "      <td>No</td>\n",
       "      <td>3.9</td>\n",
       "      <td>38</td>\n",
       "      <td>Basavanagudi</td>\n",
       "      <td>Quick Bites</td>\n",
       "      <td>200.0</td>\n",
       "      <td>Delivery</td>\n",
       "      <td>Jayanagar</td>\n",
       "      <td>3.1 - 3.9</td>\n",
       "      <td>100-500</td>\n",
       "    </tr>\n",
       "    <tr>\n",
       "      <th>387</th>\n",
       "      <td>Food Point</td>\n",
       "      <td>Yes</td>\n",
       "      <td>No</td>\n",
       "      <td>3.5</td>\n",
       "      <td>32</td>\n",
       "      <td>Kumaraswamy Layout</td>\n",
       "      <td>Quick Bites</td>\n",
       "      <td>300.0</td>\n",
       "      <td>Delivery</td>\n",
       "      <td>Banashankari</td>\n",
       "      <td>3.1 - 3.9</td>\n",
       "      <td>100-500</td>\n",
       "    </tr>\n",
       "    <tr>\n",
       "      <th>37572</th>\n",
       "      <td>Drunkling - Sizzlers and Pub</td>\n",
       "      <td>Yes</td>\n",
       "      <td>Yes</td>\n",
       "      <td>4.4</td>\n",
       "      <td>348</td>\n",
       "      <td>Koramangala 5th Block</td>\n",
       "      <td>Casual Dining, Bar</td>\n",
       "      <td>1000.0</td>\n",
       "      <td>Drinks &amp; nightlife</td>\n",
       "      <td>Koramangala 7th Block</td>\n",
       "      <td>4.0 - 4.5</td>\n",
       "      <td>1000 - 2000</td>\n",
       "    </tr>\n",
       "    <tr>\n",
       "      <th>22471</th>\n",
       "      <td>Hum Biryani</td>\n",
       "      <td>Yes</td>\n",
       "      <td>No</td>\n",
       "      <td>3.4</td>\n",
       "      <td>17</td>\n",
       "      <td>BTM</td>\n",
       "      <td>Delivery</td>\n",
       "      <td>600.0</td>\n",
       "      <td>Delivery</td>\n",
       "      <td>JP Nagar</td>\n",
       "      <td>3.1 - 3.9</td>\n",
       "      <td>500 - 1000</td>\n",
       "    </tr>\n",
       "    <tr>\n",
       "      <th>48464</th>\n",
       "      <td>Mel's Korner</td>\n",
       "      <td>No</td>\n",
       "      <td>No</td>\n",
       "      <td>3.7</td>\n",
       "      <td>96</td>\n",
       "      <td>Church Street</td>\n",
       "      <td>Quick Bites</td>\n",
       "      <td>500.0</td>\n",
       "      <td>Dine-out</td>\n",
       "      <td>Residency Road</td>\n",
       "      <td>3.1 - 3.9</td>\n",
       "      <td>500 - 1000</td>\n",
       "    </tr>\n",
       "  </tbody>\n",
       "</table>\n",
       "</div>"
      ],
      "text/plain": [
       "                               name online_order book_table  rate  votes  \\\n",
       "19538                Chinese Square          Yes         No   3.9     38   \n",
       "387                      Food Point          Yes         No   3.5     32   \n",
       "37572  Drunkling - Sizzlers and Pub          Yes        Yes   4.4    348   \n",
       "22471                   Hum Biryani          Yes         No   3.4     17   \n",
       "48464                  Mel's Korner           No         No   3.7     96   \n",
       "\n",
       "                    location           rest_type  cost_2     listed_in(type)  \\\n",
       "19538           Basavanagudi         Quick Bites   200.0            Delivery   \n",
       "387       Kumaraswamy Layout         Quick Bites   300.0            Delivery   \n",
       "37572  Koramangala 5th Block  Casual Dining, Bar  1000.0  Drinks & nightlife   \n",
       "22471                    BTM            Delivery   600.0            Delivery   \n",
       "48464          Church Street         Quick Bites   500.0            Dine-out   \n",
       "\n",
       "             listed_in(city) rating_range   cost_range  \n",
       "19538              Jayanagar    3.1 - 3.9      100-500  \n",
       "387             Banashankari    3.1 - 3.9      100-500  \n",
       "37572  Koramangala 7th Block    4.0 - 4.5  1000 - 2000  \n",
       "22471               JP Nagar    3.1 - 3.9   500 - 1000  \n",
       "48464         Residency Road    3.1 - 3.9   500 - 1000  "
      ]
     },
     "execution_count": 323,
     "metadata": {},
     "output_type": "execute_result"
    }
   ],
   "source": [
    "df.sample(5)"
   ]
  },
  {
   "cell_type": "code",
   "execution_count": 339,
   "metadata": {
    "execution": {
     "iopub.execute_input": "2023-03-31T15:47:55.439364Z",
     "iopub.status.busy": "2023-03-31T15:47:55.438303Z",
     "iopub.status.idle": "2023-03-31T15:47:55.890937Z",
     "shell.execute_reply": "2023-03-31T15:47:55.889587Z",
     "shell.execute_reply.started": "2023-03-31T15:47:55.439305Z"
    }
   },
   "outputs": [
    {
     "data": {
      "text/plain": [
       "(array([ 0,  1,  2,  3,  4,  5,  6,  7,  8,  9, 10, 11, 12, 13, 14, 15, 16,\n",
       "        17, 18, 19]),\n",
       " [Text(0, 0, 'BTM'),\n",
       "  Text(1, 0, 'HSR'),\n",
       "  Text(2, 0, 'Koramangala 5th Block'),\n",
       "  Text(3, 0, 'JP Nagar'),\n",
       "  Text(4, 0, 'Whitefield'),\n",
       "  Text(5, 0, 'Indiranagar'),\n",
       "  Text(6, 0, 'Jayanagar'),\n",
       "  Text(7, 0, 'Marathahalli'),\n",
       "  Text(8, 0, 'Bannerghatta Road'),\n",
       "  Text(9, 0, 'Bellandur'),\n",
       "  Text(10, 0, 'Electronic City'),\n",
       "  Text(11, 0, 'Koramangala 1st Block'),\n",
       "  Text(12, 0, 'Brigade Road'),\n",
       "  Text(13, 0, 'Koramangala 7th Block'),\n",
       "  Text(14, 0, 'Koramangala 6th Block'),\n",
       "  Text(15, 0, 'Sarjapur Road'),\n",
       "  Text(16, 0, 'Koramangala 4th Block'),\n",
       "  Text(17, 0, 'Ulsoor'),\n",
       "  Text(18, 0, 'MG Road'),\n",
       "  Text(19, 0, 'Banashankari')])"
      ]
     },
     "execution_count": 339,
     "metadata": {},
     "output_type": "execute_result"
    },
    {
     "data": {
      "image/png": "[encoded data removed]",
      "text/plain": [
       "<Figure size 640x480 with 1 Axes>"
      ]
     },
     "metadata": {},
     "output_type": "display_data"
    }
   ],
   "source": [
    "df_location=df.location.value_counts()[0:20].reset_index()\n",
    "sns.barplot(x='index',y='location',data=df_location).set(title='Top 20 Location with most Restaurants')\n",
    "plt.xticks(rotation=90)"
   ]
  },
  {
   "cell_type": "code",
   "execution_count": 325,
   "metadata": {
    "execution": {
     "iopub.execute_input": "2023-03-31T15:42:38.717173Z",
     "iopub.status.busy": "2023-03-31T15:42:38.716615Z",
     "iopub.status.idle": "2023-03-31T15:42:39.017800Z",
     "shell.execute_reply": "2023-03-31T15:42:39.016507Z",
     "shell.execute_reply.started": "2023-03-31T15:42:38.717134Z"
    }
   },
   "outputs": [
    {
     "data": {
      "text/plain": [
       "(array([0, 1, 2, 3, 4, 5, 6]),\n",
       " [Text(0, 0, 'Delivery'),\n",
       "  Text(1, 0, 'Dine-out'),\n",
       "  Text(2, 0, 'Desserts'),\n",
       "  Text(3, 0, 'Cafes'),\n",
       "  Text(4, 0, 'Drinks & nightlife'),\n",
       "  Text(5, 0, 'Buffet'),\n",
       "  Text(6, 0, 'Pubs and bars')])"
      ]
     },
     "execution_count": 325,
     "metadata": {},
     "output_type": "execute_result"
    },
    {
     "data": {
      "image/png": "[encoded data removed]",
      "text/plain": [
       "<Figure size 640x480 with 1 Axes>"
      ]
     },
     "metadata": {},
     "output_type": "display_data"
    }
   ],
   "source": [
    "df_listing_type=df[\"listed_in(type)\"].value_counts()[0:10].reset_index()\n",
    "sns.barplot(x='index',y='listed_in(type)',data=df_listing_type).set(title='Listing Type')\n",
    "plt.xticks(rotation=90)"
   ]
  },
  {
   "cell_type": "code",
   "execution_count": 326,
   "metadata": {
    "execution": {
     "iopub.execute_input": "2023-03-31T15:42:39.019837Z",
     "iopub.status.busy": "2023-03-31T15:42:39.019358Z",
     "iopub.status.idle": "2023-03-31T15:42:39.260250Z",
     "shell.execute_reply": "2023-03-31T15:42:39.259003Z",
     "shell.execute_reply.started": "2023-03-31T15:42:39.019786Z"
    }
   },
   "outputs": [
    {
     "data": {
      "text/plain": [
       "(array([0, 1]), [Text(0, 0, 'Yes'), Text(1, 0, 'No')])"
      ]
     },
     "execution_count": 326,
     "metadata": {},
     "output_type": "execute_result"
    },
    {
     "data": {
      "image/png": "[encoded data removed]",
      "text/plain": [
       "<Figure size 300x300 with 1 Axes>"
      ]
     },
     "metadata": {},
     "output_type": "display_data"
    }
   ],
   "source": [
    "fig, ax = plt.subplots(figsize=(3, 3))\n",
    "sns.countplot(x='online_order',data=df,palette='RdBu_r', ax=ax)\n",
    "plt.xticks(rotation=90)"
   ]
  },
  {
   "cell_type": "code",
   "execution_count": 327,
   "metadata": {
    "execution": {
     "iopub.execute_input": "2023-03-31T15:42:39.262416Z",
     "iopub.status.busy": "2023-03-31T15:42:39.261948Z",
     "iopub.status.idle": "2023-03-31T15:42:39.486420Z",
     "shell.execute_reply": "2023-03-31T15:42:39.485129Z",
     "shell.execute_reply.started": "2023-03-31T15:42:39.262342Z"
    }
   },
   "outputs": [
    {
     "data": {
      "text/plain": [
       "(array([0, 1]), [Text(0, 0, 'Yes'), Text(1, 0, 'No')])"
      ]
     },
     "execution_count": 327,
     "metadata": {},
     "output_type": "execute_result"
    },
    {
     "data": {
      "image/png": "[encoded data removed]",
      "text/plain": [
       "<Figure size 300x300 with 1 Axes>"
      ]
     },
     "metadata": {},
     "output_type": "display_data"
    }
   ],
   "source": [
    "fig, ax = plt.subplots(figsize=(3, 3))\n",
    "sns.countplot(x='book_table',data=df,palette='RdBu_r', ax=ax)\n",
    "plt.xticks(rotation=90)"
   ]
  },
  {
   "cell_type": "code",
   "execution_count": 328,
   "metadata": {
    "execution": {
     "iopub.execute_input": "2023-03-31T15:42:39.488683Z",
     "iopub.status.busy": "2023-03-31T15:42:39.488238Z",
     "iopub.status.idle": "2023-03-31T15:42:39.900783Z",
     "shell.execute_reply": "2023-03-31T15:42:39.899433Z",
     "shell.execute_reply.started": "2023-03-31T15:42:39.488641Z"
    }
   },
   "outputs": [
    {
     "data": {
      "text/plain": [
       "<AxesSubplot:xlabel='listed_in(type)', ylabel='rate'>"
      ]
     },
     "execution_count": 328,
     "metadata": {},
     "output_type": "execute_result"
    },
    {
     "data": {
      "image/png": "[encoded data removed]",
      "text/plain": [
       "<Figure size 1200x700 with 1 Axes>"
      ]
     },
     "metadata": {},
     "output_type": "display_data"
    }
   ],
   "source": [
    "plt.figure(figsize=(12, 7))\n",
    "sns.boxplot(x='listed_in(type)',y='rate',data=df,palette='winter')"
   ]
  },
  {
   "cell_type": "code",
   "execution_count": 329,
   "metadata": {
    "execution": {
     "iopub.execute_input": "2023-03-31T15:42:39.903660Z",
     "iopub.status.busy": "2023-03-31T15:42:39.902535Z",
     "iopub.status.idle": "2023-03-31T15:42:40.302914Z",
     "shell.execute_reply": "2023-03-31T15:42:40.301485Z",
     "shell.execute_reply.started": "2023-03-31T15:42:39.903616Z"
    }
   },
   "outputs": [
    {
     "data": {
      "text/plain": [
       "<AxesSubplot:xlabel='listed_in(type)', ylabel='cost_2'>"
      ]
     },
     "execution_count": 329,
     "metadata": {},
     "output_type": "execute_result"
    },
    {
     "data": {
      "image/png": "[encoded data removed]",
      "text/plain": [
       "<Figure size 1200x700 with 1 Axes>"
      ]
     },
     "metadata": {},
     "output_type": "display_data"
    }
   ],
   "source": [
    "plt.figure(figsize=(12, 7))\n",
    "sns.boxplot(x='listed_in(type)',y='cost_2',data=df,palette='winter')"
   ]
  },
  {
   "cell_type": "markdown",
   "metadata": {},
   "source": [
    "Which restaurant has most number of votes?"
   ]
  },
  {
   "cell_type": "code",
   "execution_count": 361,
   "metadata": {
    "execution": {
     "iopub.execute_input": "2023-03-31T16:03:51.748655Z",
     "iopub.status.busy": "2023-03-31T16:03:51.748115Z",
     "iopub.status.idle": "2023-03-31T16:03:51.783086Z",
     "shell.execute_reply": "2023-03-31T16:03:51.781628Z",
     "shell.execute_reply.started": "2023-03-31T16:03:51.748610Z"
    }
   },
   "outputs": [
    {
     "data": {
      "text/html": [
       "<div>\n",
       "<style scoped>\n",
       "    .dataframe tbody tr th:only-of-type {\n",
       "        vertical-align: middle;\n",
       "    }\n",
       "\n",
       "    .dataframe tbody tr th {\n",
       "        vertical-align: top;\n",
       "    }\n",
       "\n",
       "    .dataframe thead th {\n",
       "        text-align: right;\n",
       "    }\n",
       "</style>\n",
       "<table border=\"1\" class=\"dataframe\">\n",
       "  <thead>\n",
       "    <tr style=\"text-align: right;\">\n",
       "      <th></th>\n",
       "      <th>name</th>\n",
       "      <th>votes</th>\n",
       "    </tr>\n",
       "  </thead>\n",
       "  <tbody>\n",
       "    <tr>\n",
       "      <th>1274</th>\n",
       "      <td>Byg Brewski Brewing Company</td>\n",
       "      <td>16832</td>\n",
       "    </tr>\n",
       "    <tr>\n",
       "      <th>8231</th>\n",
       "      <td>Toit</td>\n",
       "      <td>14956</td>\n",
       "    </tr>\n",
       "    <tr>\n",
       "      <th>8269</th>\n",
       "      <td>Truffles</td>\n",
       "      <td>14726</td>\n",
       "    </tr>\n",
       "    <tr>\n",
       "      <th>129</th>\n",
       "      <td>AB's - Absolute Barbecues</td>\n",
       "      <td>12121</td>\n",
       "    </tr>\n",
       "    <tr>\n",
       "      <th>7751</th>\n",
       "      <td>The Black Pearl</td>\n",
       "      <td>10550</td>\n",
       "    </tr>\n",
       "    <tr>\n",
       "      <th>978</th>\n",
       "      <td>Big Pitcher</td>\n",
       "      <td>9300</td>\n",
       "    </tr>\n",
       "    <tr>\n",
       "      <th>5549</th>\n",
       "      <td>Onesta</td>\n",
       "      <td>9085</td>\n",
       "    </tr>\n",
       "    <tr>\n",
       "      <th>548</th>\n",
       "      <td>Arbor Brewing Company</td>\n",
       "      <td>8419</td>\n",
       "    </tr>\n",
       "    <tr>\n",
       "      <th>2446</th>\n",
       "      <td>Empire Restaurant</td>\n",
       "      <td>8304</td>\n",
       "    </tr>\n",
       "    <tr>\n",
       "      <th>5907</th>\n",
       "      <td>Prost Brew Pub</td>\n",
       "      <td>7871</td>\n",
       "    </tr>\n",
       "    <tr>\n",
       "      <th>1812</th>\n",
       "      <td>Church Street Social</td>\n",
       "      <td>7584</td>\n",
       "    </tr>\n",
       "    <tr>\n",
       "      <th>3193</th>\n",
       "      <td>Hoot</td>\n",
       "      <td>7330</td>\n",
       "    </tr>\n",
       "    <tr>\n",
       "      <th>806</th>\n",
       "      <td>Barbeque Nation</td>\n",
       "      <td>7270</td>\n",
       "    </tr>\n",
       "    <tr>\n",
       "      <th>4789</th>\n",
       "      <td>Meghana Foods</td>\n",
       "      <td>7238</td>\n",
       "    </tr>\n",
       "    <tr>\n",
       "      <th>2598</th>\n",
       "      <td>Flechazo</td>\n",
       "      <td>7154</td>\n",
       "    </tr>\n",
       "    <tr>\n",
       "      <th>7910</th>\n",
       "      <td>The Hole in the Wall Cafe</td>\n",
       "      <td>7137</td>\n",
       "    </tr>\n",
       "    <tr>\n",
       "      <th>964</th>\n",
       "      <td>Biergarten</td>\n",
       "      <td>7064</td>\n",
       "    </tr>\n",
       "    <tr>\n",
       "      <th>8427</th>\n",
       "      <td>Vapour Pub &amp; Brewery</td>\n",
       "      <td>6998</td>\n",
       "    </tr>\n",
       "    <tr>\n",
       "      <th>7479</th>\n",
       "      <td>TBC Sky Lounge</td>\n",
       "      <td>6745</td>\n",
       "    </tr>\n",
       "    <tr>\n",
       "      <th>1709</th>\n",
       "      <td>Chili's American Grill &amp; Bar</td>\n",
       "      <td>6470</td>\n",
       "    </tr>\n",
       "  </tbody>\n",
       "</table>\n",
       "</div>"
      ],
      "text/plain": [
       "                              name  votes\n",
       "1274   Byg Brewski Brewing Company  16832\n",
       "8231                          Toit  14956\n",
       "8269                      Truffles  14726\n",
       "129      AB's - Absolute Barbecues  12121\n",
       "7751               The Black Pearl  10550\n",
       "978                    Big Pitcher   9300\n",
       "5549                        Onesta   9085\n",
       "548          Arbor Brewing Company   8419\n",
       "2446             Empire Restaurant   8304\n",
       "5907                Prost Brew Pub   7871\n",
       "1812          Church Street Social   7584\n",
       "3193                          Hoot   7330\n",
       "806                Barbeque Nation   7270\n",
       "4789                 Meghana Foods   7238\n",
       "2598                      Flechazo   7154\n",
       "7910     The Hole in the Wall Cafe   7137\n",
       "964                     Biergarten   7064\n",
       "8427          Vapour Pub & Brewery   6998\n",
       "7479                TBC Sky Lounge   6745\n",
       "1709  Chili's American Grill & Bar   6470"
      ]
     },
     "execution_count": 361,
     "metadata": {},
     "output_type": "execute_result"
    }
   ],
   "source": [
    "vote_count=df.groupby(by=[\"name\"])[\"votes\"].max().reset_index().sort_values(by=['votes'], ascending=False)[0:20]\n",
    "vote_count"
   ]
  },
  {
   "cell_type": "code",
   "execution_count": 363,
   "metadata": {
    "execution": {
     "iopub.execute_input": "2023-03-31T16:06:37.392354Z",
     "iopub.status.busy": "2023-03-31T16:06:37.391781Z",
     "iopub.status.idle": "2023-03-31T16:06:37.872921Z",
     "shell.execute_reply": "2023-03-31T16:06:37.871473Z",
     "shell.execute_reply.started": "2023-03-31T16:06:37.392303Z"
    }
   },
   "outputs": [
    {
     "data": {
      "text/plain": [
       "(array([ 0,  1,  2,  3,  4,  5,  6,  7,  8,  9, 10, 11, 12, 13, 14, 15, 16,\n",
       "        17, 18, 19]),\n",
       " [Text(0, 0, 'Byg Brewski Brewing Company'),\n",
       "  Text(1, 0, 'Toit'),\n",
       "  Text(2, 0, 'Truffles'),\n",
       "  Text(3, 0, \"AB's - Absolute Barbecues\"),\n",
       "  Text(4, 0, 'The Black Pearl'),\n",
       "  Text(5, 0, 'Big Pitcher'),\n",
       "  Text(6, 0, 'Onesta'),\n",
       "  Text(7, 0, 'Arbor Brewing Company'),\n",
       "  Text(8, 0, 'Empire Restaurant'),\n",
       "  Text(9, 0, 'Prost Brew Pub'),\n",
       "  Text(10, 0, 'Church Street Social'),\n",
       "  Text(11, 0, 'Hoot'),\n",
       "  Text(12, 0, 'Barbeque Nation'),\n",
       "  Text(13, 0, 'Meghana Foods'),\n",
       "  Text(14, 0, 'Flechazo'),\n",
       "  Text(15, 0, 'The Hole in the Wall Cafe'),\n",
       "  Text(16, 0, 'Biergarten'),\n",
       "  Text(17, 0, 'Vapour Pub & Brewery'),\n",
       "  Text(18, 0, 'TBC Sky Lounge'),\n",
       "  Text(19, 0, \"Chili's American Grill & Bar\")])"
      ]
     },
     "execution_count": 363,
     "metadata": {},
     "output_type": "execute_result"
    },
    {
     "data": {
      "image/png": "[encoded data removed]",
      "text/plain": [
       "<Figure size 640x480 with 1 Axes>"
      ]
     },
     "metadata": {},
     "output_type": "display_data"
    }
   ],
   "source": [
    "sns.barplot(x='name',y='votes',data=vote_count).set(title='Restaurant Vs No. of Votes')\n",
    "plt.xticks(rotation=90)"
   ]
  },
  {
   "cell_type": "markdown",
   "metadata": {},
   "source": [
    "What is the average rating for each cost range?"
   ]
  },
  {
   "cell_type": "code",
   "execution_count": 366,
   "metadata": {
    "execution": {
     "iopub.execute_input": "2023-03-31T16:08:12.804772Z",
     "iopub.status.busy": "2023-03-31T16:08:12.804290Z",
     "iopub.status.idle": "2023-03-31T16:08:12.827518Z",
     "shell.execute_reply": "2023-03-31T16:08:12.826444Z",
     "shell.execute_reply.started": "2023-03-31T16:08:12.804734Z"
    }
   },
   "outputs": [
    {
     "data": {
      "text/html": [
       "<div>\n",
       "<style scoped>\n",
       "    .dataframe tbody tr th:only-of-type {\n",
       "        vertical-align: middle;\n",
       "    }\n",
       "\n",
       "    .dataframe tbody tr th {\n",
       "        vertical-align: top;\n",
       "    }\n",
       "\n",
       "    .dataframe thead th {\n",
       "        text-align: right;\n",
       "    }\n",
       "</style>\n",
       "<table border=\"1\" class=\"dataframe\">\n",
       "  <thead>\n",
       "    <tr style=\"text-align: right;\">\n",
       "      <th></th>\n",
       "      <th>cost_range</th>\n",
       "      <th>rate</th>\n",
       "    </tr>\n",
       "  </thead>\n",
       "  <tbody>\n",
       "    <tr>\n",
       "      <th>0</th>\n",
       "      <td>0-100</td>\n",
       "      <td>2.281720</td>\n",
       "    </tr>\n",
       "    <tr>\n",
       "      <th>1</th>\n",
       "      <td>100-500</td>\n",
       "      <td>2.601788</td>\n",
       "    </tr>\n",
       "    <tr>\n",
       "      <th>2</th>\n",
       "      <td>1000 - 2000</td>\n",
       "      <td>3.889655</td>\n",
       "    </tr>\n",
       "    <tr>\n",
       "      <th>3</th>\n",
       "      <td>2000 - 3000</td>\n",
       "      <td>4.035841</td>\n",
       "    </tr>\n",
       "    <tr>\n",
       "      <th>4</th>\n",
       "      <td>500 - 1000</td>\n",
       "      <td>3.280408</td>\n",
       "    </tr>\n",
       "    <tr>\n",
       "      <th>5</th>\n",
       "      <td>&gt;3000</td>\n",
       "      <td>4.230380</td>\n",
       "    </tr>\n",
       "  </tbody>\n",
       "</table>\n",
       "</div>"
      ],
      "text/plain": [
       "    cost_range      rate\n",
       "0        0-100  2.281720\n",
       "1      100-500  2.601788\n",
       "2  1000 - 2000  3.889655\n",
       "3  2000 - 3000  4.035841\n",
       "4   500 - 1000  3.280408\n",
       "5        >3000  4.230380"
      ]
     },
     "execution_count": 366,
     "metadata": {},
     "output_type": "execute_result"
    }
   ],
   "source": [
    "avg_rating=df.groupby(by=[\"cost_range\"])[\"rate\"].mean().reset_index()\n",
    "avg_rating"
   ]
  },
  {
   "cell_type": "code",
   "execution_count": 369,
   "metadata": {
    "execution": {
     "iopub.execute_input": "2023-03-31T16:08:53.041179Z",
     "iopub.status.busy": "2023-03-31T16:08:53.040207Z",
     "iopub.status.idle": "2023-03-31T16:08:53.348601Z",
     "shell.execute_reply": "2023-03-31T16:08:53.347205Z",
     "shell.execute_reply.started": "2023-03-31T16:08:53.041130Z"
    }
   },
   "outputs": [
    {
     "data": {
      "text/plain": [
       "(array([0, 1, 2, 3, 4, 5]),\n",
       " [Text(0, 0, '0-100'),\n",
       "  Text(1, 0, '100-500'),\n",
       "  Text(2, 0, '1000 - 2000'),\n",
       "  Text(3, 0, '2000 - 3000'),\n",
       "  Text(4, 0, '500 - 1000'),\n",
       "  Text(5, 0, '>3000')])"
      ]
     },
     "execution_count": 369,
     "metadata": {},
     "output_type": "execute_result"
    },
    {
     "data": {
      "image/png": "[encoded data removed]",
      "text/plain": [
       "<Figure size 640x480 with 1 Axes>"
      ]
     },
     "metadata": {},
     "output_type": "display_data"
    }
   ],
   "source": [
    "sns.barplot(x='cost_range',y='rate',data=avg_rating).set(title='Average rating for each cost range')\n",
    "plt.xticks(rotation=20)"
   ]
  },
  {
   "cell_type": "markdown",
   "metadata": {},
   "source": [
    "What type of restaurant gets the best rating?"
   ]
  },
  {
   "cell_type": "code",
   "execution_count": 370,
   "metadata": {
    "execution": {
     "iopub.execute_input": "2023-03-31T16:09:53.299003Z",
     "iopub.status.busy": "2023-03-31T16:09:53.297887Z",
     "iopub.status.idle": "2023-03-31T16:09:53.323037Z",
     "shell.execute_reply": "2023-03-31T16:09:53.321932Z",
     "shell.execute_reply.started": "2023-03-31T16:09:53.298935Z"
    }
   },
   "outputs": [
    {
     "data": {
      "text/html": [
       "<div>\n",
       "<style scoped>\n",
       "    .dataframe tbody tr th:only-of-type {\n",
       "        vertical-align: middle;\n",
       "    }\n",
       "\n",
       "    .dataframe tbody tr th {\n",
       "        vertical-align: top;\n",
       "    }\n",
       "\n",
       "    .dataframe thead th {\n",
       "        text-align: right;\n",
       "    }\n",
       "</style>\n",
       "<table border=\"1\" class=\"dataframe\">\n",
       "  <thead>\n",
       "    <tr style=\"text-align: right;\">\n",
       "      <th></th>\n",
       "      <th>listed_in(type)</th>\n",
       "      <th>rate</th>\n",
       "    </tr>\n",
       "  </thead>\n",
       "  <tbody>\n",
       "    <tr>\n",
       "      <th>0</th>\n",
       "      <td>Buffet</td>\n",
       "      <td>3.859545</td>\n",
       "    </tr>\n",
       "    <tr>\n",
       "      <th>5</th>\n",
       "      <td>Drinks &amp; nightlife</td>\n",
       "      <td>3.845704</td>\n",
       "    </tr>\n",
       "    <tr>\n",
       "      <th>6</th>\n",
       "      <td>Pubs and bars</td>\n",
       "      <td>3.696686</td>\n",
       "    </tr>\n",
       "    <tr>\n",
       "      <th>1</th>\n",
       "      <td>Cafes</td>\n",
       "      <td>3.429716</td>\n",
       "    </tr>\n",
       "    <tr>\n",
       "      <th>4</th>\n",
       "      <td>Dine-out</td>\n",
       "      <td>2.950206</td>\n",
       "    </tr>\n",
       "    <tr>\n",
       "      <th>2</th>\n",
       "      <td>Delivery</td>\n",
       "      <td>2.909735</td>\n",
       "    </tr>\n",
       "    <tr>\n",
       "      <th>3</th>\n",
       "      <td>Desserts</td>\n",
       "      <td>2.871918</td>\n",
       "    </tr>\n",
       "  </tbody>\n",
       "</table>\n",
       "</div>"
      ],
      "text/plain": [
       "      listed_in(type)      rate\n",
       "0              Buffet  3.859545\n",
       "5  Drinks & nightlife  3.845704\n",
       "6       Pubs and bars  3.696686\n",
       "1               Cafes  3.429716\n",
       "4            Dine-out  2.950206\n",
       "2            Delivery  2.909735\n",
       "3            Desserts  2.871918"
      ]
     },
     "execution_count": 370,
     "metadata": {},
     "output_type": "execute_result"
    }
   ],
   "source": [
    "best_rating_rest=df.groupby(by=[\"listed_in(type)\"])[\"rate\"].mean().reset_index().sort_values(by=['rate'], ascending=False)\n",
    "best_rating_rest"
   ]
  },
  {
   "cell_type": "code",
   "execution_count": 371,
   "metadata": {
    "execution": {
     "iopub.execute_input": "2023-03-31T16:10:23.062640Z",
     "iopub.status.busy": "2023-03-31T16:10:23.061716Z",
     "iopub.status.idle": "2023-03-31T16:10:23.378807Z",
     "shell.execute_reply": "2023-03-31T16:10:23.377032Z",
     "shell.execute_reply.started": "2023-03-31T16:10:23.062592Z"
    }
   },
   "outputs": [
    {
     "data": {
      "text/plain": [
       "(array([0, 1, 2, 3, 4, 5, 6]),\n",
       " [Text(0, 0, 'Buffet'),\n",
       "  Text(1, 0, 'Drinks & nightlife'),\n",
       "  Text(2, 0, 'Pubs and bars'),\n",
       "  Text(3, 0, 'Cafes'),\n",
       "  Text(4, 0, 'Dine-out'),\n",
       "  Text(5, 0, 'Delivery'),\n",
       "  Text(6, 0, 'Desserts')])"
      ]
     },
     "execution_count": 371,
     "metadata": {},
     "output_type": "execute_result"
    },
    {
     "data": {
      "image/png": "[encoded data removed]",
      "text/plain": [
       "<Figure size 640x480 with 1 Axes>"
      ]
     },
     "metadata": {},
     "output_type": "display_data"
    }
   ],
   "source": [
    "sns.barplot(x='listed_in(type)',y='rate',data=best_rating_rest).set(title='What type of restaurant gets the best rating?')\n",
    "plt.xticks(rotation=20)"
   ]
  },
  {
   "cell_type": "markdown",
   "metadata": {},
   "source": [
    "What is the average cost of two for each type of restaurant?"
   ]
  },
  {
   "cell_type": "code",
   "execution_count": 372,
   "metadata": {
    "execution": {
     "iopub.execute_input": "2023-03-31T16:11:02.583599Z",
     "iopub.status.busy": "2023-03-31T16:11:02.583127Z",
     "iopub.status.idle": "2023-03-31T16:11:02.609108Z",
     "shell.execute_reply": "2023-03-31T16:11:02.607621Z",
     "shell.execute_reply.started": "2023-03-31T16:11:02.583556Z"
    }
   },
   "outputs": [
    {
     "data": {
      "text/html": [
       "<div>\n",
       "<style scoped>\n",
       "    .dataframe tbody tr th:only-of-type {\n",
       "        vertical-align: middle;\n",
       "    }\n",
       "\n",
       "    .dataframe tbody tr th {\n",
       "        vertical-align: top;\n",
       "    }\n",
       "\n",
       "    .dataframe thead th {\n",
       "        text-align: right;\n",
       "    }\n",
       "</style>\n",
       "<table border=\"1\" class=\"dataframe\">\n",
       "  <thead>\n",
       "    <tr style=\"text-align: right;\">\n",
       "      <th></th>\n",
       "      <th>listed_in(type)</th>\n",
       "      <th>cost_2</th>\n",
       "    </tr>\n",
       "  </thead>\n",
       "  <tbody>\n",
       "    <tr>\n",
       "      <th>5</th>\n",
       "      <td>Drinks &amp; nightlife</td>\n",
       "      <td>1444.561243</td>\n",
       "    </tr>\n",
       "    <tr>\n",
       "      <th>6</th>\n",
       "      <td>Pubs and bars</td>\n",
       "      <td>1325.936599</td>\n",
       "    </tr>\n",
       "    <tr>\n",
       "      <th>0</th>\n",
       "      <td>Buffet</td>\n",
       "      <td>1305.227273</td>\n",
       "    </tr>\n",
       "    <tr>\n",
       "      <th>1</th>\n",
       "      <td>Cafes</td>\n",
       "      <td>627.481138</td>\n",
       "    </tr>\n",
       "    <tr>\n",
       "      <th>4</th>\n",
       "      <td>Dine-out</td>\n",
       "      <td>591.122937</td>\n",
       "    </tr>\n",
       "    <tr>\n",
       "      <th>2</th>\n",
       "      <td>Delivery</td>\n",
       "      <td>464.000425</td>\n",
       "    </tr>\n",
       "    <tr>\n",
       "      <th>3</th>\n",
       "      <td>Desserts</td>\n",
       "      <td>392.323963</td>\n",
       "    </tr>\n",
       "  </tbody>\n",
       "</table>\n",
       "</div>"
      ],
      "text/plain": [
       "      listed_in(type)       cost_2\n",
       "5  Drinks & nightlife  1444.561243\n",
       "6       Pubs and bars  1325.936599\n",
       "0              Buffet  1305.227273\n",
       "1               Cafes   627.481138\n",
       "4            Dine-out   591.122937\n",
       "2            Delivery   464.000425\n",
       "3            Desserts   392.323963"
      ]
     },
     "execution_count": 372,
     "metadata": {},
     "output_type": "execute_result"
    }
   ],
   "source": [
    "avg_cost=df.groupby(by=[\"listed_in(type)\"])[\"cost_2\"].mean().reset_index().sort_values(by=['cost_2'], ascending=False)\n",
    "avg_cost"
   ]
  },
  {
   "cell_type": "code",
   "execution_count": 373,
   "metadata": {
    "execution": {
     "iopub.execute_input": "2023-03-31T16:11:37.591481Z",
     "iopub.status.busy": "2023-03-31T16:11:37.590923Z",
     "iopub.status.idle": "2023-03-31T16:11:37.905477Z",
     "shell.execute_reply": "2023-03-31T16:11:37.903826Z",
     "shell.execute_reply.started": "2023-03-31T16:11:37.591434Z"
    }
   },
   "outputs": [
    {
     "data": {
      "text/plain": [
       "(array([0, 1, 2, 3, 4, 5, 6]),\n",
       " [Text(0, 0, 'Drinks & nightlife'),\n",
       "  Text(1, 0, 'Pubs and bars'),\n",
       "  Text(2, 0, 'Buffet'),\n",
       "  Text(3, 0, 'Cafes'),\n",
       "  Text(4, 0, 'Dine-out'),\n",
       "  Text(5, 0, 'Delivery'),\n",
       "  Text(6, 0, 'Desserts')])"
      ]
     },
     "execution_count": 373,
     "metadata": {},
     "output_type": "execute_result"
    },
    {
     "data": {
      "image/png": "[encoded data removed]",
      "text/plain": [
       "<Figure size 640x480 with 1 Axes>"
      ]
     },
     "metadata": {},
     "output_type": "display_data"
    }
   ],
   "source": [
    "sns.barplot(x='listed_in(type)',y='cost_2',data=avg_cost).set(title='What is the average cost of two for each type of restaurant?')\n",
    "plt.xticks(rotation=20)"
   ]
  },
  {
   "cell_type": "markdown",
   "metadata": {},
   "source": [
    "Which restaurant type recieves the most votes?"
   ]
  },
  {
   "cell_type": "code",
   "execution_count": 374,
   "metadata": {
    "execution": {
     "iopub.execute_input": "2023-03-31T16:12:05.283995Z",
     "iopub.status.busy": "2023-03-31T16:12:05.283516Z",
     "iopub.status.idle": "2023-03-31T16:12:05.309082Z",
     "shell.execute_reply": "2023-03-31T16:12:05.307766Z",
     "shell.execute_reply.started": "2023-03-31T16:12:05.283957Z"
    }
   },
   "outputs": [
    {
     "data": {
      "text/html": [
       "<div>\n",
       "<style scoped>\n",
       "    .dataframe tbody tr th:only-of-type {\n",
       "        vertical-align: middle;\n",
       "    }\n",
       "\n",
       "    .dataframe tbody tr th {\n",
       "        vertical-align: top;\n",
       "    }\n",
       "\n",
       "    .dataframe thead th {\n",
       "        text-align: right;\n",
       "    }\n",
       "</style>\n",
       "<table border=\"1\" class=\"dataframe\">\n",
       "  <thead>\n",
       "    <tr style=\"text-align: right;\">\n",
       "      <th></th>\n",
       "      <th>listed_in(type)</th>\n",
       "      <th>votes</th>\n",
       "    </tr>\n",
       "  </thead>\n",
       "  <tbody>\n",
       "    <tr>\n",
       "      <th>2</th>\n",
       "      <td>Delivery</td>\n",
       "      <td>16832</td>\n",
       "    </tr>\n",
       "    <tr>\n",
       "      <th>4</th>\n",
       "      <td>Dine-out</td>\n",
       "      <td>16832</td>\n",
       "    </tr>\n",
       "    <tr>\n",
       "      <th>5</th>\n",
       "      <td>Drinks &amp; nightlife</td>\n",
       "      <td>16832</td>\n",
       "    </tr>\n",
       "    <tr>\n",
       "      <th>1</th>\n",
       "      <td>Cafes</td>\n",
       "      <td>14723</td>\n",
       "    </tr>\n",
       "    <tr>\n",
       "      <th>0</th>\n",
       "      <td>Buffet</td>\n",
       "      <td>12121</td>\n",
       "    </tr>\n",
       "    <tr>\n",
       "      <th>6</th>\n",
       "      <td>Pubs and bars</td>\n",
       "      <td>10550</td>\n",
       "    </tr>\n",
       "    <tr>\n",
       "      <th>3</th>\n",
       "      <td>Desserts</td>\n",
       "      <td>9085</td>\n",
       "    </tr>\n",
       "  </tbody>\n",
       "</table>\n",
       "</div>"
      ],
      "text/plain": [
       "      listed_in(type)  votes\n",
       "2            Delivery  16832\n",
       "4            Dine-out  16832\n",
       "5  Drinks & nightlife  16832\n",
       "1               Cafes  14723\n",
       "0              Buffet  12121\n",
       "6       Pubs and bars  10550\n",
       "3            Desserts   9085"
      ]
     },
     "execution_count": 374,
     "metadata": {},
     "output_type": "execute_result"
    }
   ],
   "source": [
    "most_vote=df.groupby(by=[\"listed_in(type)\"])[\"votes\"].max().reset_index().sort_values(by=['votes'], ascending=False)\n",
    "most_vote"
   ]
  },
  {
   "cell_type": "code",
   "execution_count": 375,
   "metadata": {
    "execution": {
     "iopub.execute_input": "2023-03-31T16:12:23.975661Z",
     "iopub.status.busy": "2023-03-31T16:12:23.974882Z",
     "iopub.status.idle": "2023-03-31T16:12:24.297723Z",
     "shell.execute_reply": "2023-03-31T16:12:24.295999Z",
     "shell.execute_reply.started": "2023-03-31T16:12:23.975608Z"
    }
   },
   "outputs": [
    {
     "data": {
      "text/plain": [
       "(array([0, 1, 2, 3, 4, 5, 6]),\n",
       " [Text(0, 0, 'Delivery'),\n",
       "  Text(1, 0, 'Dine-out'),\n",
       "  Text(2, 0, 'Drinks & nightlife'),\n",
       "  Text(3, 0, 'Cafes'),\n",
       "  Text(4, 0, 'Buffet'),\n",
       "  Text(5, 0, 'Pubs and bars'),\n",
       "  Text(6, 0, 'Desserts')])"
      ]
     },
     "execution_count": 375,
     "metadata": {},
     "output_type": "execute_result"
    },
    {
     "data": {
      "image/png": "[encoded data removed]",
      "text/plain": [
       "<Figure size 640x480 with 1 Axes>"
      ]
     },
     "metadata": {},
     "output_type": "display_data"
    }
   ],
   "source": [
    "sns.barplot(x='listed_in(type)',y='votes',data=most_vote).set(title='Average rating for each cost range')\n",
    "plt.xticks(rotation=20)"
   ]
  }
 ],
 "metadata": {
  "kernelspec": {
   "display_name": "Python 3 (ipykernel)",
   "language": "python",
   "name": "python3"
  },
  "language_info": {
   "codemirror_mode": {
    "name": "ipython",
    "version": 3
   },
   "file_extension": ".py",
   "mimetype": "text/x-python",
   "name": "python",
   "nbconvert_exporter": "python",
   "pygments_lexer": "ipython3",
   "version": "3.9.12"
  }
 },
 "nbformat": 4,
 "nbformat_minor": 4
}
